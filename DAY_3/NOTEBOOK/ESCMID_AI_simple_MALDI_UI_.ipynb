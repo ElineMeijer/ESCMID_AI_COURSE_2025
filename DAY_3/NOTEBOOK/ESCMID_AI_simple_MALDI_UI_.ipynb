{
  "nbformat": 4,
  "nbformat_minor": 0,
  "metadata": {
    "colab": {
      "provenance": []
    },
    "kernelspec": {
      "name": "python3",
      "display_name": "Python 3"
    },
    "language_info": {
      "name": "python"
    }
  },
  "cells": [
    {
      "cell_type": "markdown",
      "source": [
        "# Welcome to the MALDI-UI session\n",
        "\n",
        "In this notebook, we will work with **MALDI-TOF mass spectrometry data**, specifically the **DRIAMS B database**, which contains routine MALDI-TOF MS data from the Canton Hospital Basel-Land.\n",
        "\n",
        "Our objective for this practical session is to create a simple UI, where the user can:\n",
        "- Load in dataset of spectra\n",
        "- Perform basic preprocessing of the MALDI-TOF MS data\n",
        "- Show a selected spectra\n",
        "- Check for quality metrics\n",
        "- See model prediction\n",
        "- Show important features for the prediction\n",
        "\n",
        "Let's get started!\n"
      ],
      "metadata": {
        "id": "bHrQ-D9D8czX"
      }
    },
    {
      "cell_type": "markdown",
      "source": [
        "# Set-up"
      ],
      "metadata": {
        "id": "7p4Z2CyOA9at"
      }
    },
    {
      "cell_type": "code",
      "source": [
        "!pip install gradio plotly maldi-nn shap"
      ],
      "metadata": {
        "id": "dWjH_CczroLY",
        "colab": {
          "base_uri": "https://localhost:8080/"
        },
        "outputId": "0e0bcc95-6861-4439-f3db-e2fb84e2b3fc",
        "collapsed": true
      },
      "execution_count": 1,
      "outputs": [
        {
          "output_type": "stream",
          "name": "stdout",
          "text": [
            "Requirement already satisfied: gradio in /usr/local/lib/python3.11/dist-packages (5.31.0)\n",
            "Requirement already satisfied: plotly in /usr/local/lib/python3.11/dist-packages (5.24.1)\n",
            "Requirement already satisfied: maldi-nn in /usr/local/lib/python3.11/dist-packages (0.2.5)\n",
            "Requirement already satisfied: shap in /usr/local/lib/python3.11/dist-packages (0.47.2)\n",
            "Requirement already satisfied: aiofiles<25.0,>=22.0 in /usr/local/lib/python3.11/dist-packages (from gradio) (24.1.0)\n",
            "Requirement already satisfied: anyio<5.0,>=3.0 in /usr/local/lib/python3.11/dist-packages (from gradio) (4.9.0)\n",
            "Requirement already satisfied: fastapi<1.0,>=0.115.2 in /usr/local/lib/python3.11/dist-packages (from gradio) (0.115.12)\n",
            "Requirement already satisfied: ffmpy in /usr/local/lib/python3.11/dist-packages (from gradio) (0.5.0)\n",
            "Requirement already satisfied: gradio-client==1.10.1 in /usr/local/lib/python3.11/dist-packages (from gradio) (1.10.1)\n",
            "Requirement already satisfied: groovy~=0.1 in /usr/local/lib/python3.11/dist-packages (from gradio) (0.1.2)\n",
            "Requirement already satisfied: httpx>=0.24.1 in /usr/local/lib/python3.11/dist-packages (from gradio) (0.28.1)\n",
            "Requirement already satisfied: huggingface-hub>=0.28.1 in /usr/local/lib/python3.11/dist-packages (from gradio) (0.32.2)\n",
            "Requirement already satisfied: jinja2<4.0 in /usr/local/lib/python3.11/dist-packages (from gradio) (3.1.6)\n",
            "Requirement already satisfied: markupsafe<4.0,>=2.0 in /usr/local/lib/python3.11/dist-packages (from gradio) (3.0.2)\n",
            "Requirement already satisfied: numpy<3.0,>=1.0 in /usr/local/lib/python3.11/dist-packages (from gradio) (2.0.2)\n",
            "Requirement already satisfied: orjson~=3.0 in /usr/local/lib/python3.11/dist-packages (from gradio) (3.10.18)\n",
            "Requirement already satisfied: packaging in /usr/local/lib/python3.11/dist-packages (from gradio) (24.2)\n",
            "Requirement already satisfied: pandas<3.0,>=1.0 in /usr/local/lib/python3.11/dist-packages (from gradio) (2.2.2)\n",
            "Requirement already satisfied: pillow<12.0,>=8.0 in /usr/local/lib/python3.11/dist-packages (from gradio) (11.2.1)\n",
            "Requirement already satisfied: pydantic<2.12,>=2.0 in /usr/local/lib/python3.11/dist-packages (from gradio) (2.11.5)\n",
            "Requirement already satisfied: pydub in /usr/local/lib/python3.11/dist-packages (from gradio) (0.25.1)\n",
            "Requirement already satisfied: python-multipart>=0.0.18 in /usr/local/lib/python3.11/dist-packages (from gradio) (0.0.20)\n",
            "Requirement already satisfied: pyyaml<7.0,>=5.0 in /usr/local/lib/python3.11/dist-packages (from gradio) (6.0.2)\n",
            "Requirement already satisfied: ruff>=0.9.3 in /usr/local/lib/python3.11/dist-packages (from gradio) (0.11.12)\n",
            "Requirement already satisfied: safehttpx<0.2.0,>=0.1.6 in /usr/local/lib/python3.11/dist-packages (from gradio) (0.1.6)\n",
            "Requirement already satisfied: semantic-version~=2.0 in /usr/local/lib/python3.11/dist-packages (from gradio) (2.10.0)\n",
            "Requirement already satisfied: starlette<1.0,>=0.40.0 in /usr/local/lib/python3.11/dist-packages (from gradio) (0.46.2)\n",
            "Requirement already satisfied: tomlkit<0.14.0,>=0.12.0 in /usr/local/lib/python3.11/dist-packages (from gradio) (0.13.2)\n",
            "Requirement already satisfied: typer<1.0,>=0.12 in /usr/local/lib/python3.11/dist-packages (from gradio) (0.16.0)\n",
            "Requirement already satisfied: typing-extensions~=4.0 in /usr/local/lib/python3.11/dist-packages (from gradio) (4.13.2)\n",
            "Requirement already satisfied: uvicorn>=0.14.0 in /usr/local/lib/python3.11/dist-packages (from gradio) (0.34.2)\n",
            "Requirement already satisfied: fsspec in /usr/local/lib/python3.11/dist-packages (from gradio-client==1.10.1->gradio) (2025.3.2)\n",
            "Requirement already satisfied: websockets<16.0,>=10.0 in /usr/local/lib/python3.11/dist-packages (from gradio-client==1.10.1->gradio) (15.0.1)\n",
            "Requirement already satisfied: tenacity>=6.2.0 in /usr/local/lib/python3.11/dist-packages (from plotly) (9.1.2)\n",
            "Requirement already satisfied: torch in /usr/local/lib/python3.11/dist-packages (from maldi-nn) (2.6.0+cu124)\n",
            "Requirement already satisfied: lightning in /usr/local/lib/python3.11/dist-packages (from maldi-nn) (2.5.1.post0)\n",
            "Requirement already satisfied: h5torch>=0.2.5 in /usr/local/lib/python3.11/dist-packages (from maldi-nn) (0.3.0)\n",
            "Requirement already satisfied: bio-attention in /usr/local/lib/python3.11/dist-packages (from maldi-nn) (0.1.15)\n",
            "Requirement already satisfied: scipy in /usr/local/lib/python3.11/dist-packages (from maldi-nn) (1.15.3)\n",
            "Requirement already satisfied: matplotlib in /usr/local/lib/python3.11/dist-packages (from maldi-nn) (3.10.0)\n",
            "Requirement already satisfied: rdkit in /usr/local/lib/python3.11/dist-packages (from maldi-nn) (2025.3.2)\n",
            "Requirement already satisfied: selfies in /usr/local/lib/python3.11/dist-packages (from maldi-nn) (2.2.0)\n",
            "Requirement already satisfied: deepsmiles in /usr/local/lib/python3.11/dist-packages (from maldi-nn) (1.0.1)\n",
            "Requirement already satisfied: scikit-learn in /usr/local/lib/python3.11/dist-packages (from maldi-nn) (1.6.1)\n",
            "Requirement already satisfied: xgboost in /usr/local/lib/python3.11/dist-packages (from maldi-nn) (2.1.4)\n",
            "Requirement already satisfied: tensorboard in /usr/local/lib/python3.11/dist-packages (from maldi-nn) (2.18.0)\n",
            "Requirement already satisfied: tqdm>=4.27.0 in /usr/local/lib/python3.11/dist-packages (from shap) (4.67.1)\n",
            "Requirement already satisfied: slicer==0.0.8 in /usr/local/lib/python3.11/dist-packages (from shap) (0.0.8)\n",
            "Requirement already satisfied: numba>=0.54 in /usr/local/lib/python3.11/dist-packages (from shap) (0.60.0)\n",
            "Requirement already satisfied: cloudpickle in /usr/local/lib/python3.11/dist-packages (from shap) (3.1.1)\n",
            "Requirement already satisfied: idna>=2.8 in /usr/local/lib/python3.11/dist-packages (from anyio<5.0,>=3.0->gradio) (3.10)\n",
            "Requirement already satisfied: sniffio>=1.1 in /usr/local/lib/python3.11/dist-packages (from anyio<5.0,>=3.0->gradio) (1.3.1)\n",
            "Requirement already satisfied: h5py in /usr/local/lib/python3.11/dist-packages (from h5torch>=0.2.5->maldi-nn) (3.13.0)\n",
            "Requirement already satisfied: certifi in /usr/local/lib/python3.11/dist-packages (from httpx>=0.24.1->gradio) (2025.4.26)\n",
            "Requirement already satisfied: httpcore==1.* in /usr/local/lib/python3.11/dist-packages (from httpx>=0.24.1->gradio) (1.0.9)\n",
            "Requirement already satisfied: h11>=0.16 in /usr/local/lib/python3.11/dist-packages (from httpcore==1.*->httpx>=0.24.1->gradio) (0.16.0)\n",
            "Requirement already satisfied: filelock in /usr/local/lib/python3.11/dist-packages (from huggingface-hub>=0.28.1->gradio) (3.18.0)\n",
            "Requirement already satisfied: requests in /usr/local/lib/python3.11/dist-packages (from huggingface-hub>=0.28.1->gradio) (2.32.3)\n",
            "Requirement already satisfied: hf-xet<2.0.0,>=1.1.2 in /usr/local/lib/python3.11/dist-packages (from huggingface-hub>=0.28.1->gradio) (1.1.2)\n",
            "Requirement already satisfied: llvmlite<0.44,>=0.43.0dev0 in /usr/local/lib/python3.11/dist-packages (from numba>=0.54->shap) (0.43.0)\n",
            "Requirement already satisfied: python-dateutil>=2.8.2 in /usr/local/lib/python3.11/dist-packages (from pandas<3.0,>=1.0->gradio) (2.9.0.post0)\n",
            "Requirement already satisfied: pytz>=2020.1 in /usr/local/lib/python3.11/dist-packages (from pandas<3.0,>=1.0->gradio) (2025.2)\n",
            "Requirement already satisfied: tzdata>=2022.7 in /usr/local/lib/python3.11/dist-packages (from pandas<3.0,>=1.0->gradio) (2025.2)\n",
            "Requirement already satisfied: annotated-types>=0.6.0 in /usr/local/lib/python3.11/dist-packages (from pydantic<2.12,>=2.0->gradio) (0.7.0)\n",
            "Requirement already satisfied: pydantic-core==2.33.2 in /usr/local/lib/python3.11/dist-packages (from pydantic<2.12,>=2.0->gradio) (2.33.2)\n",
            "Requirement already satisfied: typing-inspection>=0.4.0 in /usr/local/lib/python3.11/dist-packages (from pydantic<2.12,>=2.0->gradio) (0.4.1)\n",
            "Requirement already satisfied: click>=8.0.0 in /usr/local/lib/python3.11/dist-packages (from typer<1.0,>=0.12->gradio) (8.2.1)\n",
            "Requirement already satisfied: shellingham>=1.3.0 in /usr/local/lib/python3.11/dist-packages (from typer<1.0,>=0.12->gradio) (1.5.4)\n",
            "Requirement already satisfied: rich>=10.11.0 in /usr/local/lib/python3.11/dist-packages (from typer<1.0,>=0.12->gradio) (13.9.4)\n",
            "Requirement already satisfied: einops in /usr/local/lib/python3.11/dist-packages (from bio-attention->maldi-nn) (0.8.1)\n",
            "Requirement already satisfied: networkx in /usr/local/lib/python3.11/dist-packages (from torch->maldi-nn) (3.5)\n",
            "Requirement already satisfied: nvidia-cuda-nvrtc-cu12==12.4.127 in /usr/local/lib/python3.11/dist-packages (from torch->maldi-nn) (12.4.127)\n",
            "Requirement already satisfied: nvidia-cuda-runtime-cu12==12.4.127 in /usr/local/lib/python3.11/dist-packages (from torch->maldi-nn) (12.4.127)\n",
            "Requirement already satisfied: nvidia-cuda-cupti-cu12==12.4.127 in /usr/local/lib/python3.11/dist-packages (from torch->maldi-nn) (12.4.127)\n",
            "Requirement already satisfied: nvidia-cudnn-cu12==9.1.0.70 in /usr/local/lib/python3.11/dist-packages (from torch->maldi-nn) (9.1.0.70)\n",
            "Requirement already satisfied: nvidia-cublas-cu12==12.4.5.8 in /usr/local/lib/python3.11/dist-packages (from torch->maldi-nn) (12.4.5.8)\n",
            "Requirement already satisfied: nvidia-cufft-cu12==11.2.1.3 in /usr/local/lib/python3.11/dist-packages (from torch->maldi-nn) (11.2.1.3)\n",
            "Requirement already satisfied: nvidia-curand-cu12==10.3.5.147 in /usr/local/lib/python3.11/dist-packages (from torch->maldi-nn) (10.3.5.147)\n",
            "Requirement already satisfied: nvidia-cusolver-cu12==11.6.1.9 in /usr/local/lib/python3.11/dist-packages (from torch->maldi-nn) (11.6.1.9)\n",
            "Requirement already satisfied: nvidia-cusparse-cu12==12.3.1.170 in /usr/local/lib/python3.11/dist-packages (from torch->maldi-nn) (12.3.1.170)\n",
            "Requirement already satisfied: nvidia-cusparselt-cu12==0.6.2 in /usr/local/lib/python3.11/dist-packages (from torch->maldi-nn) (0.6.2)\n",
            "Requirement already satisfied: nvidia-nccl-cu12==2.21.5 in /usr/local/lib/python3.11/dist-packages (from torch->maldi-nn) (2.21.5)\n",
            "Requirement already satisfied: nvidia-nvtx-cu12==12.4.127 in /usr/local/lib/python3.11/dist-packages (from torch->maldi-nn) (12.4.127)\n",
            "Requirement already satisfied: nvidia-nvjitlink-cu12==12.4.127 in /usr/local/lib/python3.11/dist-packages (from torch->maldi-nn) (12.4.127)\n",
            "Requirement already satisfied: triton==3.2.0 in /usr/local/lib/python3.11/dist-packages (from torch->maldi-nn) (3.2.0)\n",
            "Requirement already satisfied: sympy==1.13.1 in /usr/local/lib/python3.11/dist-packages (from torch->maldi-nn) (1.13.1)\n",
            "Requirement already satisfied: mpmath<1.4,>=1.1.0 in /usr/local/lib/python3.11/dist-packages (from sympy==1.13.1->torch->maldi-nn) (1.3.0)\n",
            "Requirement already satisfied: lightning-utilities<2.0,>=0.10.0 in /usr/local/lib/python3.11/dist-packages (from lightning->maldi-nn) (0.14.3)\n",
            "Requirement already satisfied: torchmetrics<3.0,>=0.7.0 in /usr/local/lib/python3.11/dist-packages (from lightning->maldi-nn) (1.7.2)\n",
            "Requirement already satisfied: pytorch-lightning in /usr/local/lib/python3.11/dist-packages (from lightning->maldi-nn) (2.5.1.post0)\n",
            "Requirement already satisfied: contourpy>=1.0.1 in /usr/local/lib/python3.11/dist-packages (from matplotlib->maldi-nn) (1.3.2)\n",
            "Requirement already satisfied: cycler>=0.10 in /usr/local/lib/python3.11/dist-packages (from matplotlib->maldi-nn) (0.12.1)\n",
            "Requirement already satisfied: fonttools>=4.22.0 in /usr/local/lib/python3.11/dist-packages (from matplotlib->maldi-nn) (4.58.1)\n",
            "Requirement already satisfied: kiwisolver>=1.3.1 in /usr/local/lib/python3.11/dist-packages (from matplotlib->maldi-nn) (1.4.8)\n",
            "Requirement already satisfied: pyparsing>=2.3.1 in /usr/local/lib/python3.11/dist-packages (from matplotlib->maldi-nn) (3.2.3)\n",
            "Requirement already satisfied: joblib>=1.2.0 in /usr/local/lib/python3.11/dist-packages (from scikit-learn->maldi-nn) (1.5.1)\n",
            "Requirement already satisfied: threadpoolctl>=3.1.0 in /usr/local/lib/python3.11/dist-packages (from scikit-learn->maldi-nn) (3.6.0)\n",
            "Requirement already satisfied: absl-py>=0.4 in /usr/local/lib/python3.11/dist-packages (from tensorboard->maldi-nn) (1.4.0)\n",
            "Requirement already satisfied: grpcio>=1.48.2 in /usr/local/lib/python3.11/dist-packages (from tensorboard->maldi-nn) (1.71.0)\n",
            "Requirement already satisfied: markdown>=2.6.8 in /usr/local/lib/python3.11/dist-packages (from tensorboard->maldi-nn) (3.8)\n",
            "Requirement already satisfied: protobuf!=4.24.0,>=3.19.6 in /usr/local/lib/python3.11/dist-packages (from tensorboard->maldi-nn) (5.29.5)\n",
            "Requirement already satisfied: setuptools>=41.0.0 in /usr/local/lib/python3.11/dist-packages (from tensorboard->maldi-nn) (75.2.0)\n",
            "Requirement already satisfied: six>1.9 in /usr/local/lib/python3.11/dist-packages (from tensorboard->maldi-nn) (1.17.0)\n",
            "Requirement already satisfied: tensorboard-data-server<0.8.0,>=0.7.0 in /usr/local/lib/python3.11/dist-packages (from tensorboard->maldi-nn) (0.7.2)\n",
            "Requirement already satisfied: werkzeug>=1.0.1 in /usr/local/lib/python3.11/dist-packages (from tensorboard->maldi-nn) (3.1.3)\n",
            "Requirement already satisfied: aiohttp!=4.0.0a0,!=4.0.0a1 in /usr/local/lib/python3.11/dist-packages (from fsspec[http]<2026.0,>=2022.5.0->lightning->maldi-nn) (3.11.15)\n",
            "Requirement already satisfied: markdown-it-py>=2.2.0 in /usr/local/lib/python3.11/dist-packages (from rich>=10.11.0->typer<1.0,>=0.12->gradio) (3.0.0)\n",
            "Requirement already satisfied: pygments<3.0.0,>=2.13.0 in /usr/local/lib/python3.11/dist-packages (from rich>=10.11.0->typer<1.0,>=0.12->gradio) (2.19.1)\n",
            "Requirement already satisfied: charset-normalizer<4,>=2 in /usr/local/lib/python3.11/dist-packages (from requests->huggingface-hub>=0.28.1->gradio) (3.4.2)\n",
            "Requirement already satisfied: urllib3<3,>=1.21.1 in /usr/local/lib/python3.11/dist-packages (from requests->huggingface-hub>=0.28.1->gradio) (2.4.0)\n",
            "Requirement already satisfied: aiohappyeyeballs>=2.3.0 in /usr/local/lib/python3.11/dist-packages (from aiohttp!=4.0.0a0,!=4.0.0a1->fsspec[http]<2026.0,>=2022.5.0->lightning->maldi-nn) (2.6.1)\n",
            "Requirement already satisfied: aiosignal>=1.1.2 in /usr/local/lib/python3.11/dist-packages (from aiohttp!=4.0.0a0,!=4.0.0a1->fsspec[http]<2026.0,>=2022.5.0->lightning->maldi-nn) (1.3.2)\n",
            "Requirement already satisfied: attrs>=17.3.0 in /usr/local/lib/python3.11/dist-packages (from aiohttp!=4.0.0a0,!=4.0.0a1->fsspec[http]<2026.0,>=2022.5.0->lightning->maldi-nn) (25.3.0)\n",
            "Requirement already satisfied: frozenlist>=1.1.1 in /usr/local/lib/python3.11/dist-packages (from aiohttp!=4.0.0a0,!=4.0.0a1->fsspec[http]<2026.0,>=2022.5.0->lightning->maldi-nn) (1.6.0)\n",
            "Requirement already satisfied: multidict<7.0,>=4.5 in /usr/local/lib/python3.11/dist-packages (from aiohttp!=4.0.0a0,!=4.0.0a1->fsspec[http]<2026.0,>=2022.5.0->lightning->maldi-nn) (6.4.4)\n",
            "Requirement already satisfied: propcache>=0.2.0 in /usr/local/lib/python3.11/dist-packages (from aiohttp!=4.0.0a0,!=4.0.0a1->fsspec[http]<2026.0,>=2022.5.0->lightning->maldi-nn) (0.3.1)\n",
            "Requirement already satisfied: yarl<2.0,>=1.17.0 in /usr/local/lib/python3.11/dist-packages (from aiohttp!=4.0.0a0,!=4.0.0a1->fsspec[http]<2026.0,>=2022.5.0->lightning->maldi-nn) (1.20.0)\n",
            "Requirement already satisfied: mdurl~=0.1 in /usr/local/lib/python3.11/dist-packages (from markdown-it-py>=2.2.0->rich>=10.11.0->typer<1.0,>=0.12->gradio) (0.1.2)\n"
          ]
        }
      ]
    },
    {
      "cell_type": "code",
      "source": [
        "from google.colab import drive\n",
        "drive.mount('/content/drive')"
      ],
      "metadata": {
        "colab": {
          "base_uri": "https://localhost:8080/"
        },
        "id": "D_kXj5MvqXgo",
        "outputId": "3a6e52c4-b988-4fa0-e4d9-1b207a49d09c"
      },
      "execution_count": 2,
      "outputs": [
        {
          "output_type": "stream",
          "name": "stdout",
          "text": [
            "Drive already mounted at /content/drive; to attempt to forcibly remount, call drive.mount(\"/content/drive\", force_remount=True).\n"
          ]
        }
      ]
    },
    {
      "cell_type": "code",
      "source": [
        "from tensorflow.keras.models import load_model\n",
        "import numpy as np\n",
        "import joblib\n",
        "import json\n",
        "import shap\n",
        "\n",
        "mlp_model = load_model(\"'/content/drive/MyDrive/Models/mlp_keras_model.h5\")\n",
        "xgb_model = joblib.load(\"/content/drive/MyDrive/Models/xgboost_top5_species_model.pkl\")\n",
        "\n",
        "# Do we implement shapley values as well?\n",
        "\n",
        "# SHAPLEY values\n",
        "# Load saved background\n",
        "background = np.load(\"/content/drive/MyDrive/Models/mlp_shap_background.npy\")\n",
        "feature_names = [f\"{2000 + i*3}-{2000 + (i+1)*3} Da\" for i in range(6000)]\n",
        "\n",
        "# For XGBoost (TreeExplainer is fast and efficient)\n",
        "xgb_explainer = shap.Explainer(xgb_model)\n",
        "\n",
        "# For MLP\n",
        "mlp_explainer = shap.DeepExplainer(mlp_model, background)"
      ],
      "metadata": {
        "colab": {
          "base_uri": "https://localhost:8080/"
        },
        "id": "ZX-jPcUM2Qlg",
        "outputId": "67aa3cb5-267c-45c1-a591-94c2f9c1381d"
      },
      "execution_count": 11,
      "outputs": [
        {
          "output_type": "stream",
          "name": "stderr",
          "text": [
            "WARNING:absl:Compiled the loaded model, but the compiled metrics have yet to be built. `model.compile_metrics` will be empty until you train or evaluate the model.\n",
            "/usr/local/lib/python3.11/dist-packages/shap/explainers/_deep/deep_tf.py:94: UserWarning:\n",
            "\n",
            "Your TensorFlow version is newer than 2.4.0 and so graph support has been removed in eager mode and some static graphs may not be supported. See PR #1483 for discussion.\n",
            "\n",
            "/usr/local/lib/python3.11/dist-packages/keras/src/models/functional.py:237: UserWarning:\n",
            "\n",
            "The structure of `inputs` doesn't match the expected structure.\n",
            "Expected: input_layer\n",
            "Received: inputs=['Tensor(shape=(100, 6000))']\n",
            "\n"
          ]
        }
      ]
    },
    {
      "cell_type": "markdown",
      "source": [
        "# Gradio app"
      ],
      "metadata": {
        "id": "v2QKFQfnpm54"
      }
    },
    {
      "cell_type": "markdown",
      "source": [],
      "metadata": {
        "id": "V6klqEse2iML"
      }
    },
    {
      "cell_type": "code",
      "source": [
        "# --- Set-up\n",
        "import gradio as gr\n",
        "import pandas as pd\n",
        "import plotly.graph_objs as go\n",
        "import maldi_nn.spectrum as maldi_spectrum\n",
        "from maldi_nn.spectrum import SpectrumObject\n",
        "import os\n",
        "import numpy as np\n",
        "\n",
        "# Path to spectra folder\n",
        "DATA_DIR = '/content/drive/MyDrive/DRIAMS/DRIAMS-B/DRIAMS-B/raw/2018'"
      ],
      "metadata": {
        "id": "cdvuvjbX2euz"
      },
      "execution_count": 14,
      "outputs": []
    },
    {
      "cell_type": "code",
      "source": [
        "# --- Read Spectrum ---\n",
        "def read_spectrum_file(filepath):\n",
        "    spec_obj = SpectrumObject.from_tsv(filepath)\n",
        "    spec_obj.intensity = np.array(spec_obj.intensity[1:], dtype=float)\n",
        "    spec_obj.mz = np.array(spec_obj.mz[1:], dtype=float)\n",
        "    return spec_obj\n"
      ],
      "metadata": {
        "id": "S9nm1yKh2nEc"
      },
      "execution_count": 15,
      "outputs": []
    },
    {
      "cell_type": "code",
      "source": [
        "# --- Preprocessing Function ---\n",
        "def preprocess_spectra(filenames, var_stabilizer, smoother, baseline, normalizer, binner):\n",
        "    if not filenames:\n",
        "        return \"No spectra selected\", [], []\n",
        "\n",
        "    file_paths = [os.path.join(DATA_DIR, f) for f in filenames]\n",
        "    spectra = [read_spectrum_file(path) for path in file_paths]\n",
        "    steps = []\n",
        "\n",
        "    if var_stabilizer:\n",
        "        steps.append(maldi_spectrum.VarStabilizer(method=\"sqrt\"))\n",
        "    if smoother:\n",
        "        steps.append(maldi_spectrum.Smoother(halfwindow=10))\n",
        "    if baseline:\n",
        "        steps.append(maldi_spectrum.BaselineCorrecter(method=\"SNIP\", snip_n_iter=20))\n",
        "    if normalizer:\n",
        "        steps.append(maldi_spectrum.Normalizer(sum=1))\n",
        "    if binner:\n",
        "        steps.append(maldi_spectrum.Binner(step=3))\n",
        "\n",
        "    preprocessor = maldi_spectrum.SequentialPreprocessor(*steps)\n",
        "    spectra_preprocessed = [preprocessor(spectrum) for spectrum in spectra]\n",
        "\n",
        "    return \"Preprocessing complete\", spectra_preprocessed, file_paths\n"
      ],
      "metadata": {
        "id": "-yOohy1j2rUo"
      },
      "execution_count": 16,
      "outputs": []
    },
    {
      "cell_type": "code",
      "source": [
        "# --- Plotting ---\n",
        "def plot_preprocessed_spectra(preprocessed_spectra, file_paths, selected_filenames):\n",
        "    if not preprocessed_spectra or not selected_filenames:\n",
        "        return go.Figure()\n",
        "\n",
        "    file_name_to_index = {os.path.basename(p): idx for idx, p in enumerate(file_paths)}\n",
        "    fig = go.Figure()\n",
        "\n",
        "    for fname in selected_filenames:\n",
        "        i = file_name_to_index.get(fname)\n",
        "        if i is None:\n",
        "            continue\n",
        "        spectrum = preprocessed_spectra[i]\n",
        "        fig.add_trace(go.Scatter(x=spectrum.mz, y=spectrum.intensity, mode=\"lines\", name=fname))\n",
        "\n",
        "    fig.update_layout(title=\"Preprocessed Spectra\", xaxis_title=\"m/z\", yaxis_title=\"Intensity\")\n",
        "    return fig"
      ],
      "metadata": {
        "id": "4HaxIcRi2siJ"
      },
      "execution_count": 17,
      "outputs": []
    },
    {
      "cell_type": "code",
      "source": [
        "# --- Fancy Prediction Output ---\n",
        "def predict_species_from_spectra(preprocessed_spectra, selected_filenames, model_choice, file_paths):\n",
        "    if not preprocessed_spectra or not selected_filenames:\n",
        "        return pd.DataFrame(columns=[\"Filename\", \"Predicted Class\", \"Probabilities\"])\n",
        "\n",
        "    predictions = []\n",
        "    file_name_to_index = {os.path.basename(p): idx for idx, p in enumerate(file_paths)}\n",
        "\n",
        "    for fname in selected_filenames:\n",
        "        i = file_name_to_index.get(fname)\n",
        "        if i is None:\n",
        "            continue\n",
        "        spectrum = preprocessed_spectra[i]\n",
        "        features = spectrum.intensity.reshape(1, -1)\n",
        "\n",
        "        # Dummy logic – replace with real model predictions\n",
        "        if model_choice == \"MLP\":\n",
        "            pred_probs = mlp_model.predict(features)[0]\n",
        "        else:\n",
        "            pred_probs = xgb_model.predict_proba(features)[0]\n",
        "\n",
        "        pred_class = int(np.argmax(pred_probs))\n",
        "        prob_str = \", \".join(f\"{p:.4f}\" for p in pred_probs)\n",
        "\n",
        "        predictions.append({\n",
        "            \"Filename\": fname,\n",
        "            \"Predicted Class\": pred_class,\n",
        "            \"Probabilities\": prob_str\n",
        "        })\n",
        "\n",
        "    return pd.DataFrame(predictions)"
      ],
      "metadata": {
        "id": "y3PEDIBR2uHg"
      },
      "execution_count": 18,
      "outputs": []
    },
    {
      "cell_type": "code",
      "source": [
        "# --- Gradio UI ---\n",
        "with gr.Blocks(css=\"#scrollable-checkbox {max-height: 300px; overflow-y: auto; border: 1px solid #ccc; padding: 10px;}\") as demo:\n",
        "    gr.Markdown(\"## MALDI-TOF MS Tool: Preprocessing, Visualization, and Species Prediction\")\n",
        "\n",
        "    def list_txt_files():\n",
        "        try:\n",
        "            return [f for f in os.listdir(DATA_DIR) if f.endswith(\".txt\")]\n",
        "        except FileNotFoundError:\n",
        "            return []\n",
        "\n",
        "    file_selector = gr.CheckboxGroup(\n",
        "        choices=list_txt_files(),\n",
        "        label=\"Select spectra files from Google Drive folder\",\n",
        "        elem_id=\"scrollable-checkbox\"\n",
        "    )\n",
        "\n",
        "    with gr.Row():\n",
        "        var_stabilizer = gr.Checkbox(label=\"Variance Stabilizer (sqrt)\", value=True)\n",
        "        smoother = gr.Checkbox(label=\"Smoother (halfwindow=10)\", value=True)\n",
        "        baseline = gr.Checkbox(label=\"Baseline Correction (SNIP)\", value=True)\n",
        "        normalizer = gr.Checkbox(label=\"Normalization (sum=1)\", value=True)\n",
        "        binner = gr.Checkbox(label=\"Binner (step=3)\", value=True)\n",
        "\n",
        "    selected_files = gr.CheckboxGroup(choices=[], label=\"Select spectra to plot/predict (by filename)\")\n",
        "\n",
        "    def update_file_choices(filenames):\n",
        "        return gr.update(choices=filenames, value=[])\n",
        "\n",
        "    file_selector.change(update_file_choices, inputs=file_selector, outputs=selected_files)\n",
        "\n",
        "    preprocessed_spectra_state = gr.State()\n",
        "    file_paths_state = gr.State()\n",
        "\n",
        "    preprocess_button = gr.Button(\"Run Preprocessing\")\n",
        "    preprocessing_output = gr.Textbox(label=\"Preprocessing Status\")\n",
        "\n",
        "    preprocess_button.click(\n",
        "        fn=preprocess_spectra,\n",
        "        inputs=[file_selector, var_stabilizer, smoother, baseline, normalizer, binner],\n",
        "        outputs=[preprocessing_output, preprocessed_spectra_state, file_paths_state]\n",
        "    )\n",
        "\n",
        "    plot_button = gr.Button(\"Plot Selected Spectra\")\n",
        "    plot_output = gr.Plot(label=\"Processed Spectra\")\n",
        "\n",
        "    plot_button.click(\n",
        "        fn=plot_preprocessed_spectra,\n",
        "        inputs=[preprocessed_spectra_state, file_paths_state, selected_files],\n",
        "        outputs=plot_output\n",
        "    )\n",
        "\n",
        "    model_selector = gr.Dropdown(choices=[\"MLP\", \"XGBoost\"], label=\"Select ML Model\", value=\"MLP\")\n",
        "    predict_button = gr.Button(\"Run Prediction\")\n",
        "\n",
        "    prediction_output = gr.Dataframe(\n",
        "        label=\"Predicted Species\",\n",
        "        headers=[\"Filename\", \"Predicted Class\", \"Probabilities\"],\n",
        "        wrap=True\n",
        "    )\n",
        "\n",
        "    predict_button.click(\n",
        "        fn=predict_species_from_spectra,\n",
        "        inputs=[preprocessed_spectra_state, selected_files, model_selector, file_paths_state],\n",
        "        outputs=prediction_output\n",
        "    )\n",
        "\n",
        "demo.launch(share=True, debug=True)"
      ],
      "metadata": {
        "colab": {
          "base_uri": "https://localhost:8080/",
          "height": 767
        },
        "id": "hQ1keBcP4QCh",
        "outputId": "ffa9c89d-b511-40a2-8a20-e1505182bc71"
      },
      "execution_count": null,
      "outputs": [
        {
          "output_type": "stream",
          "name": "stdout",
          "text": [
            "Colab notebook detected. This cell will run indefinitely so that you can see errors and logs. To turn off, set debug=False in launch().\n",
            "* Running on public URL: https://8ddf5feb4e9c8ce218.gradio.live\n",
            "\n",
            "This share link expires in 1 week. For free permanent hosting and GPU upgrades, run `gradio deploy` from the terminal in the working directory to deploy to Hugging Face Spaces (https://huggingface.co/spaces)\n"
          ]
        },
        {
          "output_type": "display_data",
          "data": {
            "text/plain": [
              "<IPython.core.display.HTML object>"
            ],
            "text/html": [
              "<div><iframe src=\"https://8ddf5feb4e9c8ce218.gradio.live\" width=\"100%\" height=\"500\" allow=\"autoplay; camera; microphone; clipboard-read; clipboard-write;\" frameborder=\"0\" allowfullscreen></iframe></div>"
            ]
          },
          "metadata": {}
        },
        {
          "output_type": "stream",
          "name": "stdout",
          "text": [
            "\u001b[1m1/1\u001b[0m \u001b[32m━━━━━━━━━━━━━━━━━━━━\u001b[0m\u001b[37m\u001b[0m \u001b[1m0s\u001b[0m 39ms/step\n",
            "\u001b[1m1/1\u001b[0m \u001b[32m━━━━━━━━━━━━━━━━━━━━\u001b[0m\u001b[37m\u001b[0m \u001b[1m0s\u001b[0m 38ms/step\n",
            "\u001b[1m1/1\u001b[0m \u001b[32m━━━━━━━━━━━━━━━━━━━━\u001b[0m\u001b[37m\u001b[0m \u001b[1m0s\u001b[0m 37ms/step\n",
            "\u001b[1m1/1\u001b[0m \u001b[32m━━━━━━━━━━━━━━━━━━━━\u001b[0m\u001b[37m\u001b[0m \u001b[1m0s\u001b[0m 39ms/step\n",
            "\u001b[1m1/1\u001b[0m \u001b[32m━━━━━━━━━━━━━━━━━━━━\u001b[0m\u001b[37m\u001b[0m \u001b[1m0s\u001b[0m 37ms/step\n",
            "\u001b[1m1/1\u001b[0m \u001b[32m━━━━━━━━━━━━━━━━━━━━\u001b[0m\u001b[37m\u001b[0m \u001b[1m0s\u001b[0m 38ms/step\n",
            "\u001b[1m1/1\u001b[0m \u001b[32m━━━━━━━━━━━━━━━━━━━━\u001b[0m\u001b[37m\u001b[0m \u001b[1m0s\u001b[0m 38ms/step\n",
            "\u001b[1m1/1\u001b[0m \u001b[32m━━━━━━━━━━━━━━━━━━━━\u001b[0m\u001b[37m\u001b[0m \u001b[1m0s\u001b[0m 37ms/step\n",
            "\u001b[1m1/1\u001b[0m \u001b[32m━━━━━━━━━━━━━━━━━━━━\u001b[0m\u001b[37m\u001b[0m \u001b[1m0s\u001b[0m 35ms/step\n"
          ]
        }
      ]
    },
    {
      "cell_type": "markdown",
      "source": [],
      "metadata": {
        "id": "jzzvd-uSqBqS"
      }
    }
  ]
}