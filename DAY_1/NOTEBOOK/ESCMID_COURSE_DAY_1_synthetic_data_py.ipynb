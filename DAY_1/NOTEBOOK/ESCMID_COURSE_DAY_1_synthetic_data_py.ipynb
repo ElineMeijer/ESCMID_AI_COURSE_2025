{
 "cells": [
  {
   "cell_type": "markdown",
   "metadata": {},
   "source": [
    "# ESCMID Workshop - Day 1: Data Cleaning and Preparation\n",
    "\n",
    "## Overview\n",
    "This notebook demonstrates essential data cleaning and preparation techniques for antimicrobial resistance (AMR) surveillance data. We'll work with synthetic microbiological data to showcase best practices in data preprocessing, quality assessment, and preparation for both exploratory data analysis and machine learning applications.\n",
    "\n",
    "## Learning Objectives\n",
    "By the end of this notebook, you will understand how to:\n",
    "- Assess data quality and identify common issues in microbiological datasets\n",
    "- Handle missing values appropriately based on domain knowledge\n",
    "- Remove or handle duplicate records\n",
    "- Prepare categorical data for analysis\n",
    "- Export cleaned data for downstream analysis\n",
    "\n",
    "## Dataset Description\n",
    "The synthetic dataset contains microbiological surveillance data with the following key components:\n",
    "- **Demographic information**: Patient demographics, healthcare settings\n",
    "- **Microbiological data**: Species identification, antimicrobial susceptibility results\n",
    "- **Metadata**: Study information, temporal data, geographic data\n",
    "\n",
    "---\n",
    "\n",
    "## 1. Environment Setup and Data Loading"
   ]
  },
  {
   "cell_type": "code",
   "execution_count": 40,
   "metadata": {
    "executionInfo": {
     "elapsed": 2,
     "status": "ok",
     "timestamp": 1748347919117,
     "user": {
      "displayName": "Benjamin McFadden",
      "userId": "17114603396124902698"
     },
     "user_tz": -480
    },
    "id": "oLgretBUIgPi"
   },
   "outputs": [],
   "source": [
    "import pandas as pd\n",
    "import matplotlib.pyplot as plt\n",
    "import seaborn as sns\n",
    "from sklearn.model_selection import train_test_split\n",
    "from sklearn.linear_model import LogisticRegression\n",
    "from sklearn.metrics import accuracy_score, classification_report, confusion_matrix\n",
    "import os"
   ]
  },
  {
   "cell_type": "markdown",
   "metadata": {},
   "source": [
    "### Setting up the Environment\n",
    "First, we import the necessary libraries for data manipulation, visualization, and analysis."
   ]
  },
  {
   "cell_type": "code",
   "execution_count": 41,
   "metadata": {
    "colab": {
     "base_uri": "https://localhost:8080/"
    },
    "executionInfo": {
     "elapsed": 1589,
     "status": "ok",
     "timestamp": 1748347920708,
     "user": {
      "displayName": "Benjamin McFadden",
      "userId": "17114603396124902698"
     },
     "user_tz": -480
    },
    "id": "wGi2B0CwpoaR",
    "outputId": "775aaaff-1f3c-42fe-8279-75c6ddc79a78"
   },
   "outputs": [],
   "source": [
    "# from google.colab import drive\n",
    "# drive.mount('/content/drive')\n",
    "# PATH = '/content/drive/MyDrive/ESCMID_workshop/data'\n",
    "# os.listdir(PATH)"
   ]
  },
  {
   "cell_type": "markdown",
   "metadata": {},
   "source": [
    "### Data Loading and Initial Inspection\n",
    "We load the synthetic microbiological dataset and perform an initial inspection to understand its structure and content.\n",
    "\n",
    "**Key considerations when loading microbiological data:**\n",
    "- Use `low_memory=False` for datasets with mixed data types\n",
    "- Always inspect the first few rows to understand data structure\n",
    "- Check dataset dimensions to understand scope"
   ]
  },
  {
   "cell_type": "code",
   "execution_count": 42,
   "metadata": {
    "colab": {
     "base_uri": "https://localhost:8080/",
     "height": 236
    },
    "executionInfo": {
     "elapsed": 207,
     "status": "ok",
     "timestamp": 1748347920911,
     "user": {
      "displayName": "Benjamin McFadden",
      "userId": "17114603396124902698"
     },
     "user_tz": -480
    },
    "id": "N2sxlL04HsgY",
    "outputId": "9a0fc047-2bbd-4a70-a603-88c6e359c899"
   },
   "outputs": [
    {
     "data": {
      "text/html": [
       "<div>\n",
       "<style scoped>\n",
       "    .dataframe tbody tr th:only-of-type {\n",
       "        vertical-align: middle;\n",
       "    }\n",
       "\n",
       "    .dataframe tbody tr th {\n",
       "        vertical-align: top;\n",
       "    }\n",
       "\n",
       "    .dataframe thead th {\n",
       "        text-align: right;\n",
       "    }\n",
       "</style>\n",
       "<table border=\"1\" class=\"dataframe\">\n",
       "  <thead>\n",
       "    <tr style=\"text-align: right;\">\n",
       "      <th></th>\n",
       "      <th>Study</th>\n",
       "      <th>Species</th>\n",
       "      <th>Family</th>\n",
       "      <th>Country</th>\n",
       "      <th>State</th>\n",
       "      <th>Gender</th>\n",
       "      <th>Age.Group</th>\n",
       "      <th>Speciality</th>\n",
       "      <th>Source</th>\n",
       "      <th>In...Out.Patient</th>\n",
       "      <th>...</th>\n",
       "      <th>DHA</th>\n",
       "      <th>FOX</th>\n",
       "      <th>ACTMIR</th>\n",
       "      <th>KPC</th>\n",
       "      <th>OXA</th>\n",
       "      <th>NDM</th>\n",
       "      <th>IMP</th>\n",
       "      <th>VIM</th>\n",
       "      <th>SPM</th>\n",
       "      <th>GIM</th>\n",
       "    </tr>\n",
       "  </thead>\n",
       "  <tbody>\n",
       "    <tr>\n",
       "      <th>0</th>\n",
       "      <td>C</td>\n",
       "      <td>Staphylococcus aureus</td>\n",
       "      <td>Staphylococcus spp</td>\n",
       "      <td>Z1</td>\n",
       "      <td>NaN</td>\n",
       "      <td>Female</td>\n",
       "      <td>19 to 64 Years</td>\n",
       "      <td>Medicine ICU</td>\n",
       "      <td>Sputum</td>\n",
       "      <td>NaN</td>\n",
       "      <td>...</td>\n",
       "      <td>NaN</td>\n",
       "      <td>NaN</td>\n",
       "      <td>NaN</td>\n",
       "      <td>NaN</td>\n",
       "      <td>NaN</td>\n",
       "      <td>NaN</td>\n",
       "      <td>NaN</td>\n",
       "      <td>NaN</td>\n",
       "      <td>NaN</td>\n",
       "      <td>NaN</td>\n",
       "    </tr>\n",
       "    <tr>\n",
       "      <th>1</th>\n",
       "      <td>A</td>\n",
       "      <td>Haemophilus influenzae</td>\n",
       "      <td>Haemophilus spp</td>\n",
       "      <td>Z7</td>\n",
       "      <td>Y3</td>\n",
       "      <td>Female</td>\n",
       "      <td>85 and Over</td>\n",
       "      <td>Emergency Room</td>\n",
       "      <td>Sputum</td>\n",
       "      <td>Inpatient</td>\n",
       "      <td>...</td>\n",
       "      <td>NaN</td>\n",
       "      <td>NaN</td>\n",
       "      <td>NaN</td>\n",
       "      <td>NaN</td>\n",
       "      <td>NaN</td>\n",
       "      <td>NaN</td>\n",
       "      <td>NaN</td>\n",
       "      <td>NaN</td>\n",
       "      <td>NaN</td>\n",
       "      <td>NaN</td>\n",
       "    </tr>\n",
       "    <tr>\n",
       "      <th>2</th>\n",
       "      <td>A</td>\n",
       "      <td>Klebsiella oxytoca</td>\n",
       "      <td>Enterobacteriaceae</td>\n",
       "      <td>Z3</td>\n",
       "      <td>NaN</td>\n",
       "      <td>Male</td>\n",
       "      <td>19 to 64 Years</td>\n",
       "      <td>Surgery General</td>\n",
       "      <td>Sputum</td>\n",
       "      <td>Inpatient</td>\n",
       "      <td>...</td>\n",
       "      <td>NaN</td>\n",
       "      <td>NaN</td>\n",
       "      <td>NaN</td>\n",
       "      <td>NaN</td>\n",
       "      <td>NaN</td>\n",
       "      <td>NaN</td>\n",
       "      <td>NaN</td>\n",
       "      <td>NaN</td>\n",
       "      <td>NaN</td>\n",
       "      <td>NaN</td>\n",
       "    </tr>\n",
       "    <tr>\n",
       "      <th>3</th>\n",
       "      <td>C</td>\n",
       "      <td>Escherichia coli</td>\n",
       "      <td>Enterobacterales</td>\n",
       "      <td>Z24</td>\n",
       "      <td>NaN</td>\n",
       "      <td>Male</td>\n",
       "      <td>65 to 84 Years</td>\n",
       "      <td>Emergency Room</td>\n",
       "      <td>Urine</td>\n",
       "      <td>NaN</td>\n",
       "      <td>...</td>\n",
       "      <td>NaN</td>\n",
       "      <td>NaN</td>\n",
       "      <td>NaN</td>\n",
       "      <td>NaN</td>\n",
       "      <td>NaN</td>\n",
       "      <td>NaN</td>\n",
       "      <td>NaN</td>\n",
       "      <td>NaN</td>\n",
       "      <td>NaN</td>\n",
       "      <td>NaN</td>\n",
       "    </tr>\n",
       "    <tr>\n",
       "      <th>4</th>\n",
       "      <td>C</td>\n",
       "      <td>Acinetobacter baumannii</td>\n",
       "      <td>Non-Enterobacteriaceae</td>\n",
       "      <td>Z11</td>\n",
       "      <td>NaN</td>\n",
       "      <td>Male</td>\n",
       "      <td>65 to 84 Years</td>\n",
       "      <td>Medicine General</td>\n",
       "      <td>Urine</td>\n",
       "      <td>None Given</td>\n",
       "      <td>...</td>\n",
       "      <td>NaN</td>\n",
       "      <td>NaN</td>\n",
       "      <td>NaN</td>\n",
       "      <td>NEG</td>\n",
       "      <td>NaN</td>\n",
       "      <td>NEG</td>\n",
       "      <td>NaN</td>\n",
       "      <td>NaN</td>\n",
       "      <td>NEG</td>\n",
       "      <td>NaN</td>\n",
       "    </tr>\n",
       "  </tbody>\n",
       "</table>\n",
       "<p>5 rows × 133 columns</p>\n",
       "</div>"
      ],
      "text/plain": [
       "  Study                  Species                  Family Country State  \\\n",
       "0     C    Staphylococcus aureus      Staphylococcus spp      Z1   NaN   \n",
       "1     A   Haemophilus influenzae         Haemophilus spp      Z7    Y3   \n",
       "2     A       Klebsiella oxytoca      Enterobacteriaceae      Z3   NaN   \n",
       "3     C         Escherichia coli        Enterobacterales     Z24   NaN   \n",
       "4     C  Acinetobacter baumannii  Non-Enterobacteriaceae     Z11   NaN   \n",
       "\n",
       "   Gender       Age.Group        Speciality  Source In...Out.Patient  ...  \\\n",
       "0  Female  19 to 64 Years      Medicine ICU  Sputum              NaN  ...   \n",
       "1  Female     85 and Over    Emergency Room  Sputum        Inpatient  ...   \n",
       "2    Male  19 to 64 Years   Surgery General  Sputum        Inpatient  ...   \n",
       "3    Male  65 to 84 Years    Emergency Room   Urine              NaN  ...   \n",
       "4    Male  65 to 84 Years  Medicine General   Urine       None Given  ...   \n",
       "\n",
       "   DHA  FOX ACTMIR  KPC  OXA  NDM  IMP  VIM  SPM  GIM  \n",
       "0  NaN  NaN    NaN  NaN  NaN  NaN  NaN  NaN  NaN  NaN  \n",
       "1  NaN  NaN    NaN  NaN  NaN  NaN  NaN  NaN  NaN  NaN  \n",
       "2  NaN  NaN    NaN  NaN  NaN  NaN  NaN  NaN  NaN  NaN  \n",
       "3  NaN  NaN    NaN  NaN  NaN  NaN  NaN  NaN  NaN  NaN  \n",
       "4  NaN  NaN    NaN  NEG  NaN  NEG  NaN  NaN  NEG  NaN  \n",
       "\n",
       "[5 rows x 133 columns]"
      ]
     },
     "execution_count": 42,
     "metadata": {},
     "output_type": "execute_result"
    }
   ],
   "source": [
    "PATH = '../DATA'\n",
    "# Load the dataset\n",
    "file_path = f'{PATH}/Synthetic_data.csv'\n",
    "data = pd.read_csv(file_path,low_memory=False)\n",
    "\n",
    "# Display first few rows to inspect data\n",
    "data.head()\n"
   ]
  },
  {
   "cell_type": "code",
   "execution_count": 43,
   "metadata": {
    "colab": {
     "base_uri": "https://localhost:8080/"
    },
    "executionInfo": {
     "elapsed": 5,
     "status": "ok",
     "timestamp": 1748347920916,
     "user": {
      "displayName": "Benjamin McFadden",
      "userId": "17114603396124902698"
     },
     "user_tz": -480
    },
    "id": "aW0n-_EMRWEu",
    "outputId": "f9c05311-f783-45b9-aee8-3f64a55c08c9"
   },
   "outputs": [
    {
     "data": {
      "text/plain": [
       "133"
      ]
     },
     "execution_count": 43,
     "metadata": {},
     "output_type": "execute_result"
    }
   ],
   "source": [
    "len(data.columns)"
   ]
  },
  {
   "cell_type": "markdown",
   "metadata": {},
   "source": [
    "---\n",
    "\n",
    "## 2. Data Quality Assessment\n",
    "\n",
    "### Understanding Missing Data Patterns\n",
    "Missing data is common in microbiological surveillance datasets and can occur for various reasons:\n",
    "- **Technical reasons**: Laboratory testing not performed, equipment failure\n",
    "- **Clinical reasons**: Patient factors, sample collection issues\n",
    "- **Administrative reasons**: Data entry errors, incomplete records\n",
    "\n",
    "The approach to handling missing data depends on:\n",
    "1. **Why the data is missing** (mechanism)\n",
    "2. **How much data is missing** (quantity)\n",
    "3. **Which variables are affected** (pattern)\n",
    "4. **The intended use of the data** (analysis goals)"
   ]
  },
  {
   "cell_type": "markdown",
   "metadata": {},
   "source": [
    "### Creating a Missing Values Assessment Function\n",
    "This function helps us systematically identify and quantify missing data across all variables in our dataset."
   ]
  },
  {
   "cell_type": "code",
   "execution_count": 44,
   "metadata": {
    "colab": {
     "base_uri": "https://localhost:8080/",
     "height": 53
    },
    "executionInfo": {
     "elapsed": 5,
     "status": "ok",
     "timestamp": 1748347920961,
     "user": {
      "displayName": "Benjamin McFadden",
      "userId": "17114603396124902698"
     },
     "user_tz": -480
    },
    "id": "RNq5mbCtTV7z",
    "outputId": "ede84ece-d1c2-4dce-a758-3ec12137fa98"
   },
   "outputs": [
    {
     "data": {
      "text/plain": [
       "'\\n- Visual inspection to get a \"feel\" for the dataset is always a good idea\\n- Think about missing values. Why are they missing? How should we handle this?\\n- Data preparation and clearning for visualisation and exploratory data analysis looks different when compared with preparation for machine learning\\n'"
      ]
     },
     "execution_count": 44,
     "metadata": {},
     "output_type": "execute_result"
    }
   ],
   "source": [
    "# What do we want to do with this dataset?\n",
    "\"\"\"\n",
    "- Visual inspection to get a \"feel\" for the dataset is always a good idea\n",
    "- Think about missing values. Why are they missing? How should we handle this?\n",
    "- Data preparation and clearning for visualisation and exploratory data analysis looks different when compared with preparation for machine learning\n",
    "\"\"\""
   ]
  },
  {
   "cell_type": "markdown",
   "metadata": {},
   "source": [
    "---\n",
    "\n",
    "## 3. Data Cleaning Strategy\n",
    "\n",
    "### Column-by-Column Analysis Approach\n",
    "When cleaning microbiological data, it's essential to consider each variable individually based on:\n",
    "- **Clinical significance**: How important is this variable for analysis?\n",
    "- **Missing data mechanism**: Why might this data be missing?\n",
    "- **Domain knowledge**: What are reasonable approaches for this type of data?\n",
    "\n",
    "### Handling Gender Missing Values\n",
    "For demographic variables like gender, missing values often represent:\n",
    "- Data entry errors\n",
    "- Patient privacy concerns\n",
    "- Administrative oversight\n",
    "\n",
    "**Decision**: Remove rows with missing gender as this represents a small percentage (3.50%) and gender may be important for epidemiological analysis."
   ]
  },
  {
   "cell_type": "code",
   "execution_count": 45,
   "metadata": {
    "colab": {
     "base_uri": "https://localhost:8080/"
    },
    "executionInfo": {
     "elapsed": 109,
     "status": "ok",
     "timestamp": 1748347921069,
     "user": {
      "displayName": "Benjamin McFadden",
      "userId": "17114603396124902698"
     },
     "user_tz": -480
    },
    "id": "yAR_mvaeRcot",
    "outputId": "5a0c789e-d9ea-4aa2-97f9-10d4f47ee798"
   },
   "outputs": [
    {
     "name": "stdout",
     "output_type": "stream",
     "text": [
      "Column: Aztreonam.avibactam_I, Missing Values: 9984.0, Percentage: 100.00%\n",
      "Column: Cefoperazone.sulbactam_I, Missing Values: 9984.0, Percentage: 100.00%\n",
      "Column: Gatifloxacin_I, Missing Values: 9984.0, Percentage: 100.00%\n",
      "Column: Ceftaroline.avibactam_I, Missing Values: 9984.0, Percentage: 100.00%\n",
      "Column: Tebipenem_I, Missing Values: 9984.0, Percentage: 100.00%\n",
      "Column: Tetracycline_I, Missing Values: 9984.0, Percentage: 100.00%\n",
      "Column: Sulbactam_I, Missing Values: 9984.0, Percentage: 100.00%\n",
      "Column: Ceftibuten.avibactam_I, Missing Values: 9984.0, Percentage: 100.00%\n",
      "Column: Tetracycline, Missing Values: 9983.0, Percentage: 99.99%\n",
      "Column: Gatifloxacin, Missing Values: 9982.0, Percentage: 99.98%\n",
      "Column: Quinupristin.dalfopristin, Missing Values: 9946.0, Percentage: 99.62%\n",
      "Column: Quinupristin.dalfopristin_I, Missing Values: 9936.0, Percentage: 99.52%\n",
      "Column: Sulbactam, Missing Values: 9915.0, Percentage: 99.31%\n",
      "Column: Cefoxitin_I, Missing Values: 9906.0, Percentage: 99.22%\n",
      "Column: Cefoxitin, Missing Values: 9898.0, Percentage: 99.14%\n",
      "Column: AMPC, Missing Values: 9847.0, Percentage: 98.63%\n",
      "Column: Metronidazole, Missing Values: 9787.0, Percentage: 98.03%\n",
      "Column: Metronidazole_I, Missing Values: 9781.0, Percentage: 97.97%\n",
      "Column: Ceftibuten_I, Missing Values: 9762.0, Percentage: 97.78%\n",
      "Column: Clarithromycin, Missing Values: 9757.0, Percentage: 97.73%\n",
      "Column: Clarithromycin_I, Missing Values: 9752.0, Percentage: 97.68%\n",
      "Column: Cefixime_I, Missing Values: 9736.0, Percentage: 97.52%\n",
      "Column: Cefpodoxime_I, Missing Values: 9734.0, Percentage: 97.50%\n",
      "Column: Azithromycin, Missing Values: 9670.0, Percentage: 96.85%\n",
      "Column: Azithromycin_I, Missing Values: 9664.0, Percentage: 96.79%\n",
      "Column: Ertapenem_I, Missing Values: 9624.0, Percentage: 96.39%\n",
      "Column: GIM, Missing Values: 9589.0, Percentage: 96.04%\n",
      "Column: Cefpodoxime, Missing Values: 9580.0, Percentage: 95.95%\n",
      "Column: Tebipenem, Missing Values: 9578.0, Percentage: 95.93%\n",
      "Column: Ceftibuten, Missing Values: 9575.0, Percentage: 95.90%\n",
      "Column: FOX, Missing Values: 9570.0, Percentage: 95.85%\n",
      "Column: Cefixime, Missing Values: 9568.0, Percentage: 95.83%\n",
      "Column: Ceftibuten.avibactam, Missing Values: 9558.0, Percentage: 95.73%\n",
      "Column: CMY1MOX, Missing Values: 9511.0, Percentage: 95.26%\n",
      "Column: DHA, Missing Values: 9508.0, Percentage: 95.23%\n",
      "Column: ACC, Missing Values: 9505.0, Percentage: 95.20%\n",
      "Column: ACTMIR, Missing Values: 9504.0, Percentage: 95.19%\n",
      "Column: CTXM9, Missing Values: 9503.0, Percentage: 95.18%\n",
      "Column: CTXM825, Missing Values: 9487.0, Percentage: 95.02%\n",
      "Column: CTXM1, Missing Values: 9480.0, Percentage: 94.95%\n",
      "Column: CMY11, Missing Values: 9479.0, Percentage: 94.94%\n",
      "Column: CTXM2, Missing Values: 9476.0, Percentage: 94.91%\n",
      "Column: OXA, Missing Values: 9452.0, Percentage: 94.67%\n",
      "Column: IMP, Missing Values: 9448.0, Percentage: 94.63%\n",
      "Column: VEB, Missing Values: 9434.0, Percentage: 94.49%\n",
      "Column: VIM, Missing Values: 9422.0, Percentage: 94.37%\n",
      "Column: NDM, Missing Values: 9420.0, Percentage: 94.35%\n",
      "Column: TEM, Missing Values: 9418.0, Percentage: 94.33%\n",
      "Column: SHV, Missing Values: 9413.0, Percentage: 94.28%\n",
      "Column: SPM, Missing Values: 9401.0, Percentage: 94.16%\n",
      "Column: KPC, Missing Values: 9399.0, Percentage: 94.14%\n",
      "Column: GES, Missing Values: 9397.0, Percentage: 94.12%\n",
      "Column: PER, Missing Values: 9392.0, Percentage: 94.07%\n",
      "Column: Ertapenem, Missing Values: 9267.0, Percentage: 92.82%\n",
      "Column: Meropenem.vaborbactam_I, Missing Values: 9227.0, Percentage: 92.42%\n",
      "Column: Moxifloxacin_I, Missing Values: 9031.0, Percentage: 90.45%\n",
      "Column: Moxifloxacin, Missing Values: 8925.0, Percentage: 89.39%\n",
      "Column: Ceftaroline.avibactam, Missing Values: 8812.0, Percentage: 88.26%\n",
      "Column: Meropenem.vaborbactam, Missing Values: 8785.0, Percentage: 87.99%\n",
      "Column: Ceftolozane.tazobactam_I, Missing Values: 8714.0, Percentage: 87.28%\n",
      "Column: Oxacillin_I, Missing Values: 8596.0, Percentage: 86.10%\n",
      "Column: Ceftolozane.tazobactam, Missing Values: 8573.0, Percentage: 85.87%\n",
      "Column: Penicillin_I, Missing Values: 8527.0, Percentage: 85.41%\n",
      "Column: Doripenem_I, Missing Values: 8467.0, Percentage: 84.81%\n",
      "Column: Ampicillin.sulbactam_I, Missing Values: 8418.0, Percentage: 84.31%\n",
      "Column: Oxacillin, Missing Values: 8349.0, Percentage: 83.62%\n",
      "Column: Teicoplanin_I, Missing Values: 8279.0, Percentage: 82.92%\n",
      "Column: State, Missing Values: 8277.0, Percentage: 82.90%\n",
      "Column: Daptomycin_I, Missing Values: 8275.0, Percentage: 82.88%\n",
      "Column: Ciprofloxacin, Missing Values: 8030.0, Percentage: 80.43%\n",
      "Column: Ciprofloxacin_I, Missing Values: 8020.0, Percentage: 80.33%\n",
      "Column: Teicoplanin, Missing Values: 8009.0, Percentage: 80.22%\n",
      "Column: Daptomycin, Missing Values: 8002.0, Percentage: 80.15%\n",
      "Column: Penicillin, Missing Values: 7923.0, Percentage: 79.36%\n",
      "Column: Cefoperazone.sulbactam, Missing Values: 7857.0, Percentage: 78.70%\n",
      "Column: Clindamycin_I, Missing Values: 7633.0, Percentage: 76.45%\n",
      "Column: Erythromycin_I, Missing Values: 7587.0, Percentage: 75.99%\n",
      "Column: Doripenem, Missing Values: 7565.0, Percentage: 75.77%\n",
      "Column: Erythromycin, Missing Values: 7527.0, Percentage: 75.39%\n",
      "Column: Clindamycin, Missing Values: 7432.0, Percentage: 74.44%\n",
      "Column: Gentamicin_I, Missing Values: 7393.0, Percentage: 74.05%\n",
      "Column: Trimethoprim.sulfa_I, Missing Values: 7377.0, Percentage: 73.89%\n",
      "Column: Phenotype, Missing Values: 7308.0, Percentage: 73.20%\n",
      "Column: Colistin_I, Missing Values: 7226.0, Percentage: 72.38%\n",
      "Column: Ceftazidime.avibactam_I, Missing Values: 7205.0, Percentage: 72.17%\n",
      "Column: Colistin, Missing Values: 7173.0, Percentage: 71.84%\n",
      "Column: Aztreonam_I, Missing Values: 7170.0, Percentage: 71.81%\n",
      "Column: Ampicillin.sulbactam, Missing Values: 6920.0, Percentage: 69.31%\n",
      "Column: Aztreonam, Missing Values: 6892.0, Percentage: 69.03%\n",
      "Column: Aztreonam.avibactam, Missing Values: 6824.0, Percentage: 68.35%\n",
      "Column: Gentamicin, Missing Values: 6677.0, Percentage: 66.88%\n",
      "Column: Trimethoprim.sulfa, Missing Values: 6644.0, Percentage: 66.55%\n",
      "Column: Vancomycin_I, Missing Values: 6424.0, Percentage: 64.34%\n",
      "Column: Linezolid_I, Missing Values: 6409.0, Percentage: 64.19%\n",
      "Column: Linezolid, Missing Values: 6379.0, Percentage: 63.89%\n",
      "Column: Imipenem_I, Missing Values: 6343.0, Percentage: 63.53%\n",
      "Column: Vancomycin, Missing Values: 6260.0, Percentage: 62.70%\n",
      "Column: Imipenem, Missing Values: 6152.0, Percentage: 61.62%\n",
      "Column: Ceftaroline_I, Missing Values: 6082.0, Percentage: 60.92%\n",
      "Column: Ceftriaxone_I, Missing Values: 6059.0, Percentage: 60.69%\n",
      "Column: Ceftazidime.avibactam, Missing Values: 5561.0, Percentage: 55.70%\n",
      "Column: Minocycline_I, Missing Values: 5373.0, Percentage: 53.82%\n",
      "Column: Amoxycillin.clavulanate_I, Missing Values: 5155.0, Percentage: 51.63%\n",
      "Column: Ceftazidime_I, Missing Values: 4849.0, Percentage: 48.57%\n",
      "Column: Ampicillin_I, Missing Values: 4836.0, Percentage: 48.44%\n",
      "Column: Ceftaroline, Missing Values: 4588.0, Percentage: 45.95%\n",
      "Column: Minocycline, Missing Values: 4405.0, Percentage: 44.12%\n",
      "Column: Amikacin_I, Missing Values: 4199.0, Percentage: 42.06%\n",
      "Column: Amikacin, Missing Values: 3944.0, Percentage: 39.50%\n",
      "Column: Cefepime, Missing Values: 3939.0, Percentage: 39.45%\n",
      "Column: Cefepime_I, Missing Values: 3895.0, Percentage: 39.01%\n",
      "Column: Ceftriaxone, Missing Values: 3778.0, Percentage: 37.84%\n",
      "Column: Ceftazidime, Missing Values: 3695.0, Percentage: 37.01%\n",
      "Column: Piperacillin.tazobactam_I, Missing Values: 3661.0, Percentage: 36.67%\n",
      "Column: Meropenem_I, Missing Values: 3155.0, Percentage: 31.60%\n",
      "Column: In...Out.Patient, Missing Values: 2495.0, Percentage: 24.99%\n",
      "Column: Tigecycline_I, Missing Values: 1798.0, Percentage: 18.01%\n",
      "Column: Meropenem, Missing Values: 1498.0, Percentage: 15.00%\n",
      "Column: Amoxycillin.clavulanate, Missing Values: 1331.0, Percentage: 13.33%\n",
      "Column: Piperacillin.tazobactam, Missing Values: 1164.0, Percentage: 11.66%\n",
      "Column: Ampicillin, Missing Values: 677.0, Percentage: 6.78%\n",
      "Column: Gender, Missing Values: 349.0, Percentage: 3.50%\n",
      "Column: Levofloxacin_I, Missing Values: 241.0, Percentage: 2.41%\n",
      "Column: Levofloxacin, Missing Values: 219.0, Percentage: 2.19%\n",
      "Column: Tigecycline, Missing Values: 3.0, Percentage: 0.03%\n"
     ]
    }
   ],
   "source": [
    "# showing missingness of each column as a dataframe\n",
    "def missing_values_table(df):\n",
    "    # Total missing values\n",
    "    missing_count = df.isnull().sum()\n",
    "\n",
    "    # Percentage of missing values\n",
    "    missing_percent = 100 * df.isnull().sum() / len(df)\n",
    "\n",
    "    # Combine into a single DataFrame\n",
    "    missing_table = pd.DataFrame({\n",
    "        'Missing Values': missing_count,\n",
    "        'Percentage (%)': missing_percent\n",
    "    })\n",
    "\n",
    "    # Filter to show only columns with missing data\n",
    "    missing_table = missing_table[missing_table['Missing Values'] > 0]\n",
    "\n",
    "    # Sort by percentage of missing values\n",
    "    missing_table = missing_table.sort_values(by='Percentage (%)', ascending=False)\n",
    "\n",
    "    return missing_table\n",
    "\n",
    "# Example usage\n",
    "missing_data_df = missing_values_table(data)\n",
    "for index, row in missing_data_df.iterrows():\n",
    "    print(f\"Column: {index}, Missing Values: {row['Missing Values']}, Percentage: {row['Percentage (%)']:.2f}%\")\n"
   ]
  },
  {
   "cell_type": "markdown",
   "metadata": {},
   "source": [
    "### Validating Data Removal\n",
    "Always verify that data manipulation operations worked as expected by checking the counts."
   ]
  },
  {
   "cell_type": "code",
   "execution_count": 46,
   "metadata": {
    "executionInfo": {
     "elapsed": 45,
     "status": "ok",
     "timestamp": 1748347921115,
     "user": {
      "displayName": "Benjamin McFadden",
      "userId": "17114603396124902698"
     },
     "user_tz": -480
    },
    "id": "mxEwXI4pU6Ki"
   },
   "outputs": [],
   "source": [
    "# We can break down this task by thinking about each column individually. How should we handle each one individually\n",
    "\n",
    "# For this example, lets first remove any rows where gender is missing. From the previous cell, we can see that gender is missing in 349 cases (3.50%)."
   ]
  },
  {
   "cell_type": "markdown",
   "metadata": {},
   "source": [
    "### Focusing on Core Demographics\n",
    "After removing gender missing values, we focus on key demographic variables that are essential for epidemiological analysis of AMR data."
   ]
  },
  {
   "cell_type": "code",
   "execution_count": 47,
   "metadata": {
    "colab": {
     "base_uri": "https://localhost:8080/"
    },
    "executionInfo": {
     "elapsed": 3,
     "status": "ok",
     "timestamp": 1748347921119,
     "user": {
      "displayName": "Benjamin McFadden",
      "userId": "17114603396124902698"
     },
     "user_tz": -480
    },
    "id": "w4VIotGpV8KQ",
    "outputId": "2b116443-df90-41ee-df9c-090f8cdfe0ee"
   },
   "outputs": [
    {
     "name": "stdout",
     "output_type": "stream",
     "text": [
      "Rows removed: 349\n"
     ]
    }
   ],
   "source": [
    "# remove rows where Gender is missing\n",
    "len_df_before_remove = len(data)\n",
    "data = data.dropna(subset=['Gender'])\n",
    "len_df_after_remove = len(data)\n",
    "print(f\"Rows removed: {len_df_before_remove - len_df_after_remove}\")"
   ]
  },
  {
   "cell_type": "markdown",
   "metadata": {},
   "source": [
    "### Handling Geographic Variables\n",
    "**State/Province data considerations:**\n",
    "- High missingness in geographic data is common in multi-national surveillance\n",
    "- May represent privacy concerns or data collection limitations\n",
    "- For analysis focusing on species and resistance patterns, state-level detail may not be essential\n",
    "\n",
    "**Decision**: Remove the State column due to high missingness and limited analytical value for our current objectives."
   ]
  },
  {
   "cell_type": "code",
   "execution_count": 48,
   "metadata": {
    "executionInfo": {
     "elapsed": 1,
     "status": "ok",
     "timestamp": 1748347921119,
     "user": {
      "displayName": "Benjamin McFadden",
      "userId": "17114603396124902698"
     },
     "user_tz": -480
    },
    "id": "EXWSf77UWJzp"
   },
   "outputs": [],
   "source": [
    "# Great, this lines up with what was expected."
   ]
  },
  {
   "cell_type": "code",
   "execution_count": 49,
   "metadata": {
    "colab": {
     "base_uri": "https://localhost:8080/"
    },
    "executionInfo": {
     "elapsed": 50,
     "status": "ok",
     "timestamp": 1748347921169,
     "user": {
      "displayName": "Benjamin McFadden",
      "userId": "17114603396124902698"
     },
     "user_tz": -480
    },
    "id": "ovtpO1iWWb5L",
    "outputId": "e2476ebf-dce3-40ef-83e8-3986f1824788"
   },
   "outputs": [
    {
     "name": "stdout",
     "output_type": "stream",
     "text": [
      "                  Missing Values  Percentage (%)\n",
      "State                       8174       84.836533\n",
      "In...Out.Patient            2479       25.729113\n"
     ]
    }
   ],
   "source": [
    "# Lets revist the missing data values but looking only at the demographics column\n",
    "demographic_columns = [\n",
    "    'Study',\n",
    "    'Species',\n",
    "    'Family',\n",
    "    'Country',\n",
    "    'State',\n",
    "    'Gender',\n",
    "    'Age.Group',\n",
    "    'Speciality',\n",
    "    'Source',\n",
    "    'In...Out.Patient',\n",
    "    'Year'\n",
    "]\n",
    "\n",
    "data_demographics = data[demographic_columns]\n",
    "missing_data_df = missing_values_table(data_demographics)\n",
    "print(missing_data_df)"
   ]
  },
  {
   "cell_type": "markdown",
   "metadata": {},
   "source": [
    "### Handling Healthcare Setting Information\n",
    "The \"In...Out.Patient\" column contains information about healthcare settings, which is crucial for AMR epidemiology as resistance patterns often differ between inpatient and outpatient settings."
   ]
  },
  {
   "cell_type": "code",
   "execution_count": 50,
   "metadata": {
    "executionInfo": {
     "elapsed": 2,
     "status": "ok",
     "timestamp": 1748347921169,
     "user": {
      "displayName": "Benjamin McFadden",
      "userId": "17114603396124902698"
     },
     "user_tz": -480
    },
    "id": "ljwU4s6iXZSB"
   },
   "outputs": [],
   "source": [
    "# Given that the state column has many NA entries, we will remove this column from our dataset\n",
    "data = data.drop(columns=['State'])"
   ]
  },
  {
   "cell_type": "markdown",
   "metadata": {},
   "source": [
    "**Approach**: Since \"None Given\" already exists as a category, we'll treat missing values the same way to maintain consistency in the dataset."
   ]
  },
  {
   "cell_type": "code",
   "execution_count": 51,
   "metadata": {
    "colab": {
     "base_uri": "https://localhost:8080/",
     "height": 236
    },
    "executionInfo": {
     "elapsed": 49,
     "status": "ok",
     "timestamp": 1748347921217,
     "user": {
      "displayName": "Benjamin McFadden",
      "userId": "17114603396124902698"
     },
     "user_tz": -480
    },
    "id": "NcEK9IjBXmzN",
    "outputId": "2eecba0d-ef30-4091-f3f7-1607267fa30e"
   },
   "outputs": [
    {
     "data": {
      "text/html": [
       "<div>\n",
       "<style scoped>\n",
       "    .dataframe tbody tr th:only-of-type {\n",
       "        vertical-align: middle;\n",
       "    }\n",
       "\n",
       "    .dataframe tbody tr th {\n",
       "        vertical-align: top;\n",
       "    }\n",
       "\n",
       "    .dataframe thead th {\n",
       "        text-align: right;\n",
       "    }\n",
       "</style>\n",
       "<table border=\"1\" class=\"dataframe\">\n",
       "  <thead>\n",
       "    <tr style=\"text-align: right;\">\n",
       "      <th></th>\n",
       "      <th>Study</th>\n",
       "      <th>Species</th>\n",
       "      <th>Family</th>\n",
       "      <th>Country</th>\n",
       "      <th>Gender</th>\n",
       "      <th>Age.Group</th>\n",
       "      <th>Speciality</th>\n",
       "      <th>Source</th>\n",
       "      <th>In...Out.Patient</th>\n",
       "      <th>Year</th>\n",
       "      <th>...</th>\n",
       "      <th>DHA</th>\n",
       "      <th>FOX</th>\n",
       "      <th>ACTMIR</th>\n",
       "      <th>KPC</th>\n",
       "      <th>OXA</th>\n",
       "      <th>NDM</th>\n",
       "      <th>IMP</th>\n",
       "      <th>VIM</th>\n",
       "      <th>SPM</th>\n",
       "      <th>GIM</th>\n",
       "    </tr>\n",
       "  </thead>\n",
       "  <tbody>\n",
       "    <tr>\n",
       "      <th>0</th>\n",
       "      <td>C</td>\n",
       "      <td>Staphylococcus aureus</td>\n",
       "      <td>Staphylococcus spp</td>\n",
       "      <td>Z1</td>\n",
       "      <td>Female</td>\n",
       "      <td>19 to 64 Years</td>\n",
       "      <td>Medicine ICU</td>\n",
       "      <td>Sputum</td>\n",
       "      <td>NaN</td>\n",
       "      <td>2018</td>\n",
       "      <td>...</td>\n",
       "      <td>NaN</td>\n",
       "      <td>NaN</td>\n",
       "      <td>NaN</td>\n",
       "      <td>NaN</td>\n",
       "      <td>NaN</td>\n",
       "      <td>NaN</td>\n",
       "      <td>NaN</td>\n",
       "      <td>NaN</td>\n",
       "      <td>NaN</td>\n",
       "      <td>NaN</td>\n",
       "    </tr>\n",
       "    <tr>\n",
       "      <th>1</th>\n",
       "      <td>A</td>\n",
       "      <td>Haemophilus influenzae</td>\n",
       "      <td>Haemophilus spp</td>\n",
       "      <td>Z7</td>\n",
       "      <td>Female</td>\n",
       "      <td>85 and Over</td>\n",
       "      <td>Emergency Room</td>\n",
       "      <td>Sputum</td>\n",
       "      <td>Inpatient</td>\n",
       "      <td>2007</td>\n",
       "      <td>...</td>\n",
       "      <td>NaN</td>\n",
       "      <td>NaN</td>\n",
       "      <td>NaN</td>\n",
       "      <td>NaN</td>\n",
       "      <td>NaN</td>\n",
       "      <td>NaN</td>\n",
       "      <td>NaN</td>\n",
       "      <td>NaN</td>\n",
       "      <td>NaN</td>\n",
       "      <td>NaN</td>\n",
       "    </tr>\n",
       "    <tr>\n",
       "      <th>2</th>\n",
       "      <td>A</td>\n",
       "      <td>Klebsiella oxytoca</td>\n",
       "      <td>Enterobacteriaceae</td>\n",
       "      <td>Z3</td>\n",
       "      <td>Male</td>\n",
       "      <td>19 to 64 Years</td>\n",
       "      <td>Surgery General</td>\n",
       "      <td>Sputum</td>\n",
       "      <td>Inpatient</td>\n",
       "      <td>2013</td>\n",
       "      <td>...</td>\n",
       "      <td>NaN</td>\n",
       "      <td>NaN</td>\n",
       "      <td>NaN</td>\n",
       "      <td>NaN</td>\n",
       "      <td>NaN</td>\n",
       "      <td>NaN</td>\n",
       "      <td>NaN</td>\n",
       "      <td>NaN</td>\n",
       "      <td>NaN</td>\n",
       "      <td>NaN</td>\n",
       "    </tr>\n",
       "    <tr>\n",
       "      <th>3</th>\n",
       "      <td>C</td>\n",
       "      <td>Escherichia coli</td>\n",
       "      <td>Enterobacterales</td>\n",
       "      <td>Z24</td>\n",
       "      <td>Male</td>\n",
       "      <td>65 to 84 Years</td>\n",
       "      <td>Emergency Room</td>\n",
       "      <td>Urine</td>\n",
       "      <td>NaN</td>\n",
       "      <td>2022</td>\n",
       "      <td>...</td>\n",
       "      <td>NaN</td>\n",
       "      <td>NaN</td>\n",
       "      <td>NaN</td>\n",
       "      <td>NaN</td>\n",
       "      <td>NaN</td>\n",
       "      <td>NaN</td>\n",
       "      <td>NaN</td>\n",
       "      <td>NaN</td>\n",
       "      <td>NaN</td>\n",
       "      <td>NaN</td>\n",
       "    </tr>\n",
       "    <tr>\n",
       "      <th>4</th>\n",
       "      <td>C</td>\n",
       "      <td>Acinetobacter baumannii</td>\n",
       "      <td>Non-Enterobacteriaceae</td>\n",
       "      <td>Z11</td>\n",
       "      <td>Male</td>\n",
       "      <td>65 to 84 Years</td>\n",
       "      <td>Medicine General</td>\n",
       "      <td>Urine</td>\n",
       "      <td>None Given</td>\n",
       "      <td>2020</td>\n",
       "      <td>...</td>\n",
       "      <td>NaN</td>\n",
       "      <td>NaN</td>\n",
       "      <td>NaN</td>\n",
       "      <td>NEG</td>\n",
       "      <td>NaN</td>\n",
       "      <td>NEG</td>\n",
       "      <td>NaN</td>\n",
       "      <td>NaN</td>\n",
       "      <td>NEG</td>\n",
       "      <td>NaN</td>\n",
       "    </tr>\n",
       "  </tbody>\n",
       "</table>\n",
       "<p>5 rows × 132 columns</p>\n",
       "</div>"
      ],
      "text/plain": [
       "  Study                  Species                  Family Country  Gender  \\\n",
       "0     C    Staphylococcus aureus      Staphylococcus spp      Z1  Female   \n",
       "1     A   Haemophilus influenzae         Haemophilus spp      Z7  Female   \n",
       "2     A       Klebsiella oxytoca      Enterobacteriaceae      Z3    Male   \n",
       "3     C         Escherichia coli        Enterobacterales     Z24    Male   \n",
       "4     C  Acinetobacter baumannii  Non-Enterobacteriaceae     Z11    Male   \n",
       "\n",
       "        Age.Group        Speciality  Source In...Out.Patient  Year  ...  DHA  \\\n",
       "0  19 to 64 Years      Medicine ICU  Sputum              NaN  2018  ...  NaN   \n",
       "1     85 and Over    Emergency Room  Sputum        Inpatient  2007  ...  NaN   \n",
       "2  19 to 64 Years   Surgery General  Sputum        Inpatient  2013  ...  NaN   \n",
       "3  65 to 84 Years    Emergency Room   Urine              NaN  2022  ...  NaN   \n",
       "4  65 to 84 Years  Medicine General   Urine       None Given  2020  ...  NaN   \n",
       "\n",
       "   FOX ACTMIR  KPC  OXA  NDM  IMP  VIM  SPM  GIM  \n",
       "0  NaN    NaN  NaN  NaN  NaN  NaN  NaN  NaN  NaN  \n",
       "1  NaN    NaN  NaN  NaN  NaN  NaN  NaN  NaN  NaN  \n",
       "2  NaN    NaN  NaN  NaN  NaN  NaN  NaN  NaN  NaN  \n",
       "3  NaN    NaN  NaN  NaN  NaN  NaN  NaN  NaN  NaN  \n",
       "4  NaN    NaN  NEG  NaN  NEG  NaN  NaN  NEG  NaN  \n",
       "\n",
       "[5 rows x 132 columns]"
      ]
     },
     "execution_count": 51,
     "metadata": {},
     "output_type": "execute_result"
    }
   ],
   "source": [
    "data.head()"
   ]
  },
  {
   "cell_type": "code",
   "execution_count": 52,
   "metadata": {
    "colab": {
     "base_uri": "https://localhost:8080/"
    },
    "executionInfo": {
     "elapsed": 4,
     "status": "ok",
     "timestamp": 1748347921221,
     "user": {
      "displayName": "Benjamin McFadden",
      "userId": "17114603396124902698"
     },
     "user_tz": -480
    },
    "id": "a29hZfSdXof8",
    "outputId": "81ca63a0-2f52-4541-8002-b54e0b6848ba"
   },
   "outputs": [
    {
     "data": {
      "text/plain": [
       "array([nan, 'Inpatient', 'None Given', 'Outpatient', 'Other'],\n",
       "      dtype=object)"
      ]
     },
     "execution_count": 52,
     "metadata": {},
     "output_type": "execute_result"
    }
   ],
   "source": [
    "# Revisting the In...Out.Patient column, we need to handle the missing values here.\n",
    "# Checking the different values already in the column\n",
    "data['In...Out.Patient'].unique()"
   ]
  },
  {
   "cell_type": "markdown",
   "metadata": {},
   "source": [
    "---\n",
    "\n",
    "## 4. Data Quality Validation\n",
    "\n",
    "### Checking for Duplicate Records\n",
    "Duplicate records can arise from:\n",
    "- Multiple sample submissions from the same patient\n",
    "- Data entry errors\n",
    "- System errors during data collection\n",
    "\n",
    "**Important**: In microbiological data, what appears to be a \"duplicate\" might actually represent:\n",
    "- Multiple isolates from the same patient (clinically relevant)\n",
    "- Follow-up samples (temporal tracking)\n",
    "- Different antimicrobial testing results\n",
    "\n",
    "Always consider the clinical context before removing apparent duplicates."
   ]
  },
  {
   "cell_type": "code",
   "execution_count": 53,
   "metadata": {
    "executionInfo": {
     "elapsed": 2,
     "status": "ok",
     "timestamp": 1748347921222,
     "user": {
      "displayName": "Benjamin McFadden",
      "userId": "17114603396124902698"
     },
     "user_tz": -480
    },
    "id": "-kXOO3bjYO4f"
   },
   "outputs": [],
   "source": [
    "# Lets treat the missing values the same as the \"None Given\" option. So we will replace the missing values\n",
    "# with 'None Given'\n",
    "data['In...Out.Patient'] = data['In...Out.Patient'].fillna('None Given')"
   ]
  },
  {
   "cell_type": "markdown",
   "metadata": {},
   "source": [
    "---\n",
    "\n",
    "## 5. Data Preparation for Machine Learning\n",
    "\n",
    "### Considerations for ML Preprocessing\n",
    "When preparing microbiological data for machine learning applications, several additional considerations apply:\n",
    "\n",
    "**Categorical Variables**: Most ML algorithms require numerical inputs, so categorical variables need encoding:\n",
    "- **Label Encoding**: For ordinal relationships (e.g., age groups)\n",
    "- **One-Hot Encoding**: For nominal categories (e.g., species, antibiotics)\n",
    "- **Target Encoding**: For high-cardinality categorical variables\n",
    "\n",
    "**Feature Selection**: \n",
    "- Remove variables with high missingness\n",
    "- Consider clinical relevance of features\n",
    "- Handle multi-collinearity between related variables\n",
    "\n",
    "**Data Types**:\n",
    "- Ensure consistent data types across features\n",
    "- Handle mixed-type columns appropriately\n",
    "- Consider scaling requirements for different algorithms"
   ]
  },
  {
   "cell_type": "code",
   "execution_count": 54,
   "metadata": {
    "colab": {
     "base_uri": "https://localhost:8080/"
    },
    "executionInfo": {
     "elapsed": 4,
     "status": "ok",
     "timestamp": 1748347921226,
     "user": {
      "displayName": "Benjamin McFadden",
      "userId": "17114603396124902698"
     },
     "user_tz": -480
    },
    "id": "TPoLJAJ7YZO0",
    "outputId": "a2ade22a-e6ca-4839-c2c5-9732301c796c"
   },
   "outputs": [
    {
     "data": {
      "text/plain": [
       "array(['None Given', 'Inpatient', 'Outpatient', 'Other'], dtype=object)"
      ]
     },
     "execution_count": 54,
     "metadata": {},
     "output_type": "execute_result"
    }
   ],
   "source": [
    "# We can see the nan values have been successfully removed.\n",
    "data['In...Out.Patient'].unique()"
   ]
  },
  {
   "cell_type": "code",
   "execution_count": 55,
   "metadata": {
    "colab": {
     "base_uri": "https://localhost:8080/"
    },
    "executionInfo": {
     "elapsed": 85,
     "status": "ok",
     "timestamp": 1748347921311,
     "user": {
      "displayName": "Benjamin McFadden",
      "userId": "17114603396124902698"
     },
     "user_tz": -480
    },
    "id": "Xm-9nLPUZooa",
    "outputId": "c6e1eed7-de3a-448a-c9ba-1dddee4517f6"
   },
   "outputs": [
    {
     "name": "stdout",
     "output_type": "stream",
     "text": [
      "Number of duplicate records: 0\n"
     ]
    }
   ],
   "source": [
    "# Check for duplicate records\n",
    "duplicate_count = data.duplicated().sum()\n",
    "print(f\"Number of duplicate records: {duplicate_count}\")"
   ]
  },
  {
   "cell_type": "markdown",
   "metadata": {},
   "source": [
    "---\n",
    "\n",
    "## 6. Exploratory Data Analysis\n",
    "\n",
    "### Visualizing Cleaned Data\n",
    "After cleaning, it's important to visualize the data to:\n",
    "- Verify cleaning steps were successful\n",
    "- Understand data distributions\n",
    "- Identify potential biases or patterns\n",
    "- Inform subsequent analysis decisions\n",
    "\n",
    "The following visualizations help us understand key patterns in our AMR surveillance data:"
   ]
  },
  {
   "cell_type": "code",
   "execution_count": 56,
   "metadata": {
    "executionInfo": {
     "elapsed": 8,
     "status": "ok",
     "timestamp": 1748347921319,
     "user": {
      "displayName": "Benjamin McFadden",
      "userId": "17114603396124902698"
     },
     "user_tz": -480
    },
    "id": "IL5lHiQ6Z_Kh"
   },
   "outputs": [],
   "source": [
    "# Great! no need to remove duplicate records. This should always be checked.\n",
    "\n",
    "# Say we want to prepare our data for a machine learning task of predicting Amikacin susceptibility. How would we prepare our data for this considering\n",
    "# that data needs to be numerical for ML models"
   ]
  },
  {
   "cell_type": "markdown",
   "metadata": {},
   "source": [
    "### Interpretation of Visualizations\n",
    "\n",
    "**Age Group Distribution**: \n",
    "- Shows the demographic distribution of patients in our dataset\n",
    "- Important for understanding potential age-related resistance patterns\n",
    "- May reveal sampling biases in data collection\n",
    "\n",
    "**Gender Distribution**: \n",
    "- After removing missing values, shows the gender balance in our dataset\n",
    "- Relevant for epidemiological analysis as some infections show gender preferences\n",
    "\n",
    "**Species Distribution**: \n",
    "- Reveals the most common pathogens in our surveillance system\n",
    "- Top species often reflect both clinical importance and ease of identification\n",
    "- Important for prioritizing resistance surveillance efforts\n",
    "\n",
    "**Specialty Distribution**: \n",
    "- Shows which medical specialties contribute most isolates\n",
    "- Reflects both infection patterns and testing practices\n",
    "- Important for understanding potential selection biases in surveillance data"
   ]
  },
  {
   "cell_type": "code",
   "execution_count": 57,
   "metadata": {
    "colab": {
     "base_uri": "https://localhost:8080/",
     "height": 236
    },
    "executionInfo": {
     "elapsed": 53,
     "status": "ok",
     "timestamp": 1748347921371,
     "user": {
      "displayName": "Benjamin McFadden",
      "userId": "17114603396124902698"
     },
     "user_tz": -480
    },
    "id": "O8AI9bqLb5vm",
    "outputId": "d1b7f13f-2053-4566-8ab6-8e07db6a2b17"
   },
   "outputs": [
    {
     "data": {
      "text/html": [
       "<div>\n",
       "<style scoped>\n",
       "    .dataframe tbody tr th:only-of-type {\n",
       "        vertical-align: middle;\n",
       "    }\n",
       "\n",
       "    .dataframe tbody tr th {\n",
       "        vertical-align: top;\n",
       "    }\n",
       "\n",
       "    .dataframe thead th {\n",
       "        text-align: right;\n",
       "    }\n",
       "</style>\n",
       "<table border=\"1\" class=\"dataframe\">\n",
       "  <thead>\n",
       "    <tr style=\"text-align: right;\">\n",
       "      <th></th>\n",
       "      <th>Study</th>\n",
       "      <th>Species</th>\n",
       "      <th>Family</th>\n",
       "      <th>Country</th>\n",
       "      <th>Gender</th>\n",
       "      <th>Age.Group</th>\n",
       "      <th>Speciality</th>\n",
       "      <th>Source</th>\n",
       "      <th>In...Out.Patient</th>\n",
       "      <th>Year</th>\n",
       "      <th>...</th>\n",
       "      <th>DHA</th>\n",
       "      <th>FOX</th>\n",
       "      <th>ACTMIR</th>\n",
       "      <th>KPC</th>\n",
       "      <th>OXA</th>\n",
       "      <th>NDM</th>\n",
       "      <th>IMP</th>\n",
       "      <th>VIM</th>\n",
       "      <th>SPM</th>\n",
       "      <th>GIM</th>\n",
       "    </tr>\n",
       "  </thead>\n",
       "  <tbody>\n",
       "    <tr>\n",
       "      <th>0</th>\n",
       "      <td>C</td>\n",
       "      <td>Staphylococcus aureus</td>\n",
       "      <td>Staphylococcus spp</td>\n",
       "      <td>Z1</td>\n",
       "      <td>Female</td>\n",
       "      <td>19 to 64 Years</td>\n",
       "      <td>Medicine ICU</td>\n",
       "      <td>Sputum</td>\n",
       "      <td>None Given</td>\n",
       "      <td>2018</td>\n",
       "      <td>...</td>\n",
       "      <td>NaN</td>\n",
       "      <td>NaN</td>\n",
       "      <td>NaN</td>\n",
       "      <td>NaN</td>\n",
       "      <td>NaN</td>\n",
       "      <td>NaN</td>\n",
       "      <td>NaN</td>\n",
       "      <td>NaN</td>\n",
       "      <td>NaN</td>\n",
       "      <td>NaN</td>\n",
       "    </tr>\n",
       "    <tr>\n",
       "      <th>1</th>\n",
       "      <td>A</td>\n",
       "      <td>Haemophilus influenzae</td>\n",
       "      <td>Haemophilus spp</td>\n",
       "      <td>Z7</td>\n",
       "      <td>Female</td>\n",
       "      <td>85 and Over</td>\n",
       "      <td>Emergency Room</td>\n",
       "      <td>Sputum</td>\n",
       "      <td>Inpatient</td>\n",
       "      <td>2007</td>\n",
       "      <td>...</td>\n",
       "      <td>NaN</td>\n",
       "      <td>NaN</td>\n",
       "      <td>NaN</td>\n",
       "      <td>NaN</td>\n",
       "      <td>NaN</td>\n",
       "      <td>NaN</td>\n",
       "      <td>NaN</td>\n",
       "      <td>NaN</td>\n",
       "      <td>NaN</td>\n",
       "      <td>NaN</td>\n",
       "    </tr>\n",
       "    <tr>\n",
       "      <th>2</th>\n",
       "      <td>A</td>\n",
       "      <td>Klebsiella oxytoca</td>\n",
       "      <td>Enterobacteriaceae</td>\n",
       "      <td>Z3</td>\n",
       "      <td>Male</td>\n",
       "      <td>19 to 64 Years</td>\n",
       "      <td>Surgery General</td>\n",
       "      <td>Sputum</td>\n",
       "      <td>Inpatient</td>\n",
       "      <td>2013</td>\n",
       "      <td>...</td>\n",
       "      <td>NaN</td>\n",
       "      <td>NaN</td>\n",
       "      <td>NaN</td>\n",
       "      <td>NaN</td>\n",
       "      <td>NaN</td>\n",
       "      <td>NaN</td>\n",
       "      <td>NaN</td>\n",
       "      <td>NaN</td>\n",
       "      <td>NaN</td>\n",
       "      <td>NaN</td>\n",
       "    </tr>\n",
       "    <tr>\n",
       "      <th>3</th>\n",
       "      <td>C</td>\n",
       "      <td>Escherichia coli</td>\n",
       "      <td>Enterobacterales</td>\n",
       "      <td>Z24</td>\n",
       "      <td>Male</td>\n",
       "      <td>65 to 84 Years</td>\n",
       "      <td>Emergency Room</td>\n",
       "      <td>Urine</td>\n",
       "      <td>None Given</td>\n",
       "      <td>2022</td>\n",
       "      <td>...</td>\n",
       "      <td>NaN</td>\n",
       "      <td>NaN</td>\n",
       "      <td>NaN</td>\n",
       "      <td>NaN</td>\n",
       "      <td>NaN</td>\n",
       "      <td>NaN</td>\n",
       "      <td>NaN</td>\n",
       "      <td>NaN</td>\n",
       "      <td>NaN</td>\n",
       "      <td>NaN</td>\n",
       "    </tr>\n",
       "    <tr>\n",
       "      <th>4</th>\n",
       "      <td>C</td>\n",
       "      <td>Acinetobacter baumannii</td>\n",
       "      <td>Non-Enterobacteriaceae</td>\n",
       "      <td>Z11</td>\n",
       "      <td>Male</td>\n",
       "      <td>65 to 84 Years</td>\n",
       "      <td>Medicine General</td>\n",
       "      <td>Urine</td>\n",
       "      <td>None Given</td>\n",
       "      <td>2020</td>\n",
       "      <td>...</td>\n",
       "      <td>NaN</td>\n",
       "      <td>NaN</td>\n",
       "      <td>NaN</td>\n",
       "      <td>NEG</td>\n",
       "      <td>NaN</td>\n",
       "      <td>NEG</td>\n",
       "      <td>NaN</td>\n",
       "      <td>NaN</td>\n",
       "      <td>NEG</td>\n",
       "      <td>NaN</td>\n",
       "    </tr>\n",
       "  </tbody>\n",
       "</table>\n",
       "<p>5 rows × 132 columns</p>\n",
       "</div>"
      ],
      "text/plain": [
       "  Study                  Species                  Family Country  Gender  \\\n",
       "0     C    Staphylococcus aureus      Staphylococcus spp      Z1  Female   \n",
       "1     A   Haemophilus influenzae         Haemophilus spp      Z7  Female   \n",
       "2     A       Klebsiella oxytoca      Enterobacteriaceae      Z3    Male   \n",
       "3     C         Escherichia coli        Enterobacterales     Z24    Male   \n",
       "4     C  Acinetobacter baumannii  Non-Enterobacteriaceae     Z11    Male   \n",
       "\n",
       "        Age.Group        Speciality  Source In...Out.Patient  Year  ...  DHA  \\\n",
       "0  19 to 64 Years      Medicine ICU  Sputum       None Given  2018  ...  NaN   \n",
       "1     85 and Over    Emergency Room  Sputum        Inpatient  2007  ...  NaN   \n",
       "2  19 to 64 Years   Surgery General  Sputum        Inpatient  2013  ...  NaN   \n",
       "3  65 to 84 Years    Emergency Room   Urine       None Given  2022  ...  NaN   \n",
       "4  65 to 84 Years  Medicine General   Urine       None Given  2020  ...  NaN   \n",
       "\n",
       "   FOX ACTMIR  KPC  OXA  NDM  IMP  VIM  SPM  GIM  \n",
       "0  NaN    NaN  NaN  NaN  NaN  NaN  NaN  NaN  NaN  \n",
       "1  NaN    NaN  NaN  NaN  NaN  NaN  NaN  NaN  NaN  \n",
       "2  NaN    NaN  NaN  NaN  NaN  NaN  NaN  NaN  NaN  \n",
       "3  NaN    NaN  NaN  NaN  NaN  NaN  NaN  NaN  NaN  \n",
       "4  NaN    NaN  NEG  NaN  NEG  NaN  NaN  NEG  NaN  \n",
       "\n",
       "[5 rows x 132 columns]"
      ]
     },
     "execution_count": 57,
     "metadata": {},
     "output_type": "execute_result"
    }
   ],
   "source": [
    "data.head()"
   ]
  },
  {
   "cell_type": "markdown",
   "metadata": {},
   "source": [
    "---\n",
    "\n",
    "## 7. Data Export and Next Steps\n",
    "\n",
    "### Exporting Cleaned Data\n",
    "After completing our data cleaning process, we export the cleaned dataset for use in subsequent analyses. This ensures:\n",
    "- Consistency across different analysis workflows\n",
    "- Reproducibility of results\n",
    "- Separation of data cleaning from analysis steps"
   ]
  },
  {
   "cell_type": "code",
   "execution_count": 58,
   "metadata": {
    "colab": {
     "base_uri": "https://localhost:8080/",
     "height": 1000
    },
    "executionInfo": {
     "elapsed": 1223,
     "status": "ok",
     "timestamp": 1748347922592,
     "user": {
      "displayName": "Benjamin McFadden",
      "userId": "17114603396124902698"
     },
     "user_tz": -480
    },
    "id": "N_XjPN01Ij96",
    "outputId": "260f6cf6-adff-4637-c574-bafda9a85fce"
   },
   "outputs": [
    {
     "data": {
      "image/png": "[encoded data removed]",
      "text/plain": [
       "<Figure size 800x500 with 1 Axes>"
      ]
     },
     "metadata": {},
     "output_type": "display_data"
    },
    {
     "data": {
      "image/png": "[encoded data removed]",
      "text/plain": [
       "<Figure size 600x400 with 1 Axes>"
      ]
     },
     "metadata": {},
     "output_type": "display_data"
    },
    {
     "data": {
      "image/png": "[encoded data removed]",
      "text/plain": [
       "<Figure size 1000x600 with 1 Axes>"
      ]
     },
     "metadata": {},
     "output_type": "display_data"
    },
    {
     "data": {
      "image/png": "[encoded data removed]",
      "text/plain": [
       "<Figure size 1000x600 with 1 Axes>"
      ]
     },
     "metadata": {},
     "output_type": "display_data"
    }
   ],
   "source": [
    "# Visualising some aspects of our final dataset\n",
    "\n",
    "# Ensure plots are clean and readable\n",
    "sns.set(style=\"whitegrid\")\n",
    "\n",
    "\n",
    "# Distribution of Age Groups\n",
    "plt.figure(figsize=(8, 5))\n",
    "sns.countplot(y='Age.Group', data=data, order=data['Age.Group'].value_counts().index)\n",
    "plt.title('Distribution of Age Groups')\n",
    "plt.xlabel('Count')\n",
    "plt.ylabel('Age Group')\n",
    "plt.tight_layout()\n",
    "plt.show()\n",
    "\n",
    "# Distribution of Gender\n",
    "plt.figure(figsize=(6, 4))\n",
    "sns.countplot(x='Gender', data=data)\n",
    "plt.title('Gender Distribution')\n",
    "plt.xlabel('Gender')\n",
    "plt.ylabel('Count')\n",
    "plt.tight_layout()\n",
    "plt.show()\n",
    "\n",
    "# Top 10 most common species\n",
    "plt.figure(figsize=(10, 6))\n",
    "sns.countplot(y='Species', data=data, order=data['Species'].value_counts().head(10).index)\n",
    "plt.title('Top 10 Most Common Species')\n",
    "plt.xlabel('Count')\n",
    "plt.ylabel('Species')\n",
    "plt.tight_layout()\n",
    "plt.show()\n",
    "\n",
    "# Top 10 Specialities\n",
    "plt.figure(figsize=(10, 6))\n",
    "sns.countplot(y='Speciality', data=data, order=data['Speciality'].value_counts().head(10).index)\n",
    "plt.title('Top 10 Specialities')\n",
    "plt.xlabel('Count')\n",
    "plt.ylabel('Speciality')\n",
    "plt.tight_layout()\n",
    "plt.show()"
   ]
  },
  {
   "cell_type": "code",
   "execution_count": 59,
   "metadata": {
    "executionInfo": {
     "elapsed": 1310,
     "status": "ok",
     "timestamp": 1748347940165,
     "user": {
      "displayName": "Benjamin McFadden",
      "userId": "17114603396124902698"
     },
     "user_tz": -480
    },
    "id": "x3_A4je4YlbG"
   },
   "outputs": [],
   "source": [
    "# Export our cleaned data for machine learning\n",
    "export_file_path = f'{PATH}/Synthetic_Data_cleaned.csv'\n",
    "data.to_csv(export_file_path, index=False)"
   ]
  },
  {
   "cell_type": "markdown",
   "metadata": {},
   "source": [
    "---\n",
    "\n",
    "## Summary and Key Takeaways\n",
    "\n",
    "### Data Cleaning Decisions Made:\n",
    "1. **Removed rows with missing gender** (349 rows, 3.50%) - small percentage, important demographic variable\n",
    "2. **Dropped State column** - high missingness, limited analytical value for current objectives  \n",
    "3. **Filled missing healthcare setting values** with \"None Given\" - maintains consistency with existing categories\n",
    "4. **Verified no duplicate records** - important quality check for surveillance data\n",
    "\n",
    "### Best Practices Applied:\n",
    "- **Systematic assessment** of missing data patterns\n",
    "- **Domain-informed decisions** based on microbiological and epidemiological knowledge\n",
    "- **Documentation of rationale** for each cleaning step\n",
    "- **Validation** of data manipulation operations\n",
    "- **Visualization** to verify cleaning results\n",
    "\n",
    "### Next Steps:\n",
    "This cleaned dataset is now ready for:\n",
    "- **Machine learning applications** (with appropriate encoding of categorical variables)\n",
    "- **Statistical analysis** of resistance patterns\n",
    "- **Epidemiological investigations** \n",
    "- **Visualization and reporting**\n",
    "\n",
    "### Data Quality Metrics:\n",
    "- **Final dataset size**: Check the dimensions of the cleaned dataset\n",
    "- **Missing data**: Minimal remaining missing values in key variables\n",
    "- **Data consistency**: Standardized categories and formats\n",
    "- **Duplicate records**: Zero confirmed duplicates"
   ]
  }
 ],
 "metadata": {
  "colab": {
   "authorship_tag": "ABX9TyOLXtPx1Qo5tMKRKSFbT7Xy",
   "mount_file_id": "16Vh8e1MznWbbLq0Uf-5u6-7iFrYKKpz7",
   "provenance": []
  },
  "kernelspec": {
   "display_name": "base",
   "language": "python",
   "name": "python3"
  },
  "language_info": {
   "codemirror_mode": {
    "name": "ipython",
    "version": 3
   },
   "file_extension": ".py",
   "mimetype": "text/x-python",
   "name": "python",
   "nbconvert_exporter": "python",
   "pygments_lexer": "ipython3",
   "version": "3.12.7"
  }
 },
 "nbformat": 4,
 "nbformat_minor": 0
}
